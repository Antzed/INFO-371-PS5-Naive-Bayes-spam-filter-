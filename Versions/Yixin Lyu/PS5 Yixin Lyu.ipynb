{
 "cells": [
  {
   "cell_type": "markdown",
   "id": "371237a2-bd2d-4592-8019-166814d63c87",
   "metadata": {},
   "source": [
    "## PS 05"
   ]
  },
  {
   "cell_type": "markdown",
   "id": "c205a68a-3c03-4682-b39b-ee1e41416133",
   "metadata": {},
   "source": [
    "### Yixin Lyu"
   ]
  },
  {
   "cell_type": "code",
   "execution_count": 2,
   "id": "82934dd9-3a18-445b-bf5b-b073652b1441",
   "metadata": {},
   "outputs": [],
   "source": [
    "import pandas as pd\n",
    "import numpy as np\n",
    "import textwrap\n",
    "from sklearn.feature_extraction.text import CountVectorizer\n",
    "from sklearn.model_selection import train_test_split\n",
    "from sklearn.metrics import confusion_matrix, accuracy_score, precision_score, recall_score\n",
    "import matplotlib.pyplot as plt"
   ]
  },
  {
   "cell_type": "markdown",
   "id": "ea3c6a12-acc2-4f89-984e-3b4540d34b3f",
   "metadata": {},
   "source": [
    "### 1 Bayes theorem–based classification"
   ]
  },
  {
   "cell_type": "markdown",
   "id": "98bd09f0-3f65-477b-bacc-49c23c956207",
   "metadata": {},
   "source": [
    "#### 1.1.1"
   ]
  },
  {
   "cell_type": "code",
   "execution_count": 43,
   "id": "66ab6397-62e1-4373-999d-34fe055afc58",
   "metadata": {},
   "outputs": [
    {
     "name": "stdout",
     "output_type": "stream",
     "text": [
      "Spam: True\n",
      "File: spmsgc142.txt\n",
      "Message:\n",
      "Subject: limited time reservation .  the most nasty , raunchy adult interactivewebsite on the internet today is = 46ree = 46or 1 week ! ! ! ! http : / /3461767994 / adult . html locker room xcitement ! ! see all this that was notavailable in the usa continent ( until now ) here = 46ree ! plus you will get .. . over 20 , 000 xxx videos over 50 live sex shows ! amsterdam sex shows !thousands of pictures xxx magazines . . comics . . . games & more ! all this =46or = 46ree = 46or 1 week ! join now ! go to : http : / / 3461767994 / adult .html\n",
      "\n",
      "\n",
      "Spam: False\n",
      "File: 9-1559msg1.txt\n",
      "Message:\n",
      "Subject: a . nunn , dutch orthography  new from holland academic graphics :anneke nunn dutch orthography a systematic investigation of the spelling ofdutch words this study offers a detailed and systematic account of dutchorthography and its relation to the linguistic system . it reveals aspects ofthe spelling system that were ignored or left implicit until now , andintegrates them with what was already known from prescriptive and descriptiveaccounts . the most important insight this study yields is that the dutchspelling system consists of two distinct components : phoneme-to - graphemeconversion rules and autonomous spelling rules . thus , the computation ofspelling from sound representations is a two-step process . the investigationalso shows that the phoneme-to - grapheme conversion rules for non-native wordsshould be distinguished from the rules for native words . the autonomousspelling rules apply to both sets of lexical items alike , however . dutchspelling rules were modelled by means of a computer programme and applied to thesound representations of dutch words . 1998 . 237 pp . isbn 90-5569 - 049 - x .paperback . [ lot international series 6 . cls / catholic university of nijmegendissertation . ] price for individuals ordering directly from holland academicgraphics : hfl . 38 . 70 ( excl . vat and p&p ) . < http : / / www . hagpub .com > holland academic graphics po box 53292 2505 ag the hague the netherlandsfax : + 31 70 448 0177\n",
      "\n",
      "\n",
      "Spam: False\n",
      "File: 9-1632msg2.txt\n",
      "Message:\n",
      "Subject: semitic syntax conference & morphology workshop  call for papersconference : the syntax of semitic languages ( june 26-27 ) workshop : themorphology of semitic languages ( june 23 ) after a very successful firstsemitic syntax conference at usc in may 1988 , the department of linguistics atthe university of illinois at urbana - champaign invites abstracts for thesecond semitic syntax conference to be held june 26-27 , 1999 . the conferencewill be preceded by a workshop on semitic morphology to be held june 23 , 1999 .both events will take place during the linguistic society of america summerinstitute ( june 21 - july 30 ) which will be held at the university of illinoisat urbana - champaign ( website : http : / / www . beckman . uiuc . edu /linginst ) . participants will be selected on the basis of refereed anonymousabstracts , to be judged by a selection committee . each talk will be 40 minuteslong with an additional 15 minutes for discussion . please send 10 copies of ananonymous abstract , at most 2 - pages long ( including examples and references) . please enclose a 3x5 card with submission stating name of paper , name ofauthor , affiliation and address , including e-mail address , phone number , andindicate clearly whether the paper is for the conference or the workshop . thename of the author should not appear on the abstract . submissions by e-mail orfax will not be accepted . abstracts should be postmarked no later than march 15, 1998 , and sent to : abbas benmamoun department of linguistics 4088 flbuniversity of illinois at urbana-champaign urbana , il 61801 usa please checkout the semitic linguistics archives where unpublished papers on semiticlanguages can be posted and downloaded . the address is : http : / / www . usc .edu / dept / las / linguistics / semitic / please direct all inquiries about theconference and workshop to : abbas benmamoun email : e-benma @ uiuc . edu tel :( 217 ) 333-7129 fax : ( 213 ) 333-3466 organizing committee joseph aoun ( usc )abbas benmamoun ( uiuc ) hagit borer ( usc )\n",
      "\n",
      "\n",
      "Spam: True\n",
      "File: spmsgb161.txt\n",
      "Message:\n",
      "Subject:   increase your personal prestige and money earning power through anadvanced university degree . eminent , non-accedited universities will award youa degree for only $ 200 . degree granted based on your present knowledge andexpirence . no further effort necessary on your part . just a short phone callis all that is required for a ba , ma , mba , or phd diploma in the field ofyour choice . for details , call 770-492 - 2925\n",
      "\n",
      "\n",
      "Spam: False\n",
      "File: 5-1347msg1.txt\n",
      "Message:\n",
      "Subject: sum : computer transcription  a couple of months ago , i asked themembers of this list for help regarding software for the transcription of spokendiscourse . i received a large number of answers , some to my personal e-mailaddress , some ' public ' . in the following i shall quote some of the answersand attempt to sum up what i consider to be the most important info received onthe matter : perhaps slightly off the subject a few answers spoke of thepossibilities for machine-readable text : quote : ' a company named norriscommunication ( san diego , ca ) sells a digital recorder that breaks down audioinput into machine readable code ( including ascii i assume ) ' ' norris isreputed to be only one of two companies in the usa ( maybe the world )manufacturing digital audio recorders using so-called \" flash chips \" (semiconductor memory chips that permit both read and write functions ) . thedigitized flash memory can be \" dumped \" to a pc in machine readable code (which i assume would include ascii compatibility - - that 's my assumption ) . ido n't have an address , but i got their telephone number from directoryassistance . the company is located in a suburb of san diego , california calledpoway , california . the listed telephone number is 619-679 - 1504 . if thatdoes n't work for some reason , directory assistance can be reached at 619-555 -1212 . ' a number of answers centered around using standard word processors 'macro facilities : quote : ' i used to do this quite satisfactorily on the pcusing ms word with glossary items to quickly input speaker identification ,special character sequences , etc . use a style sheet for controlling formatting. i imagine that word perfect for the pc can do the same thing , especially withits macros . ' ' i ' ve made a set of macro 's which operate on a standardizedform to facilitate the transcribing process . essentially what i did is simplyreduce all routinely occurring series of keystrokes to one alt - or control -key . ' most transcription software seems to be available for the mac : quote :' for the macintosh i would definitely use nisus with a macro that has beenassigned a short and easy to type keyboard shortcut . from little things likethis to far more complex tasks , nisus is amazing . it is truly the power user's and linguist 's word processor of choice . from what i have seen , it is alsothe most worldscript - savvy word processor available . if you have n't seen it, check out the new nisuswriter 4 . 0 which should be shipping very soon if notalready . ' more info may be available from this internet address : nisus . mktg@ applelink . apple . com syncwriter : quote : ' the mac - programme you mentionis syncwriter , i guess . it costs some hundred german marks ' syncwriter issold by : med - i-bit , hohenfelderstrasse 20 , 22087 hamburg , germany ( phone+ 49 40 251 67 125 ) . workbench : quote : ' you are welcome to include theworkbench in your summary . however , as you know the bench is not really atranscription program , though it has some features for making transcribingeasier - - e . g . the transcription keypad ( with user definable strings and casymbols ) and the ability to link and play in a loop quicktime movie audio tapes. also , do mention that distribution is limited at this time . the bench is nowavailable on the world wide web . ' for further info , try contacting : thebench@ alishaw . ucsb . edu for dos - based computers : hiat-dos 2 . 2 : quote : 'hiat-dos was developed as a transcription programme everybody can afford ; thatis why it lacks certain technical gimmicks . the price of the new version issomewhat between 40 and 80 german marks ( as far as i know ) ; it is distributedby ' : prof . konrad ehlich institut fuer deutsch als fremdsprache lmu muenchenludwigstrasse 27 d-80359 muenchen fax : germany-089 / 21802116 . quote : ' hiat-dos is a kind of word processing program designed for processing transcripts ;thus you ' ve got a certain format in which you fill the transcript , you ' vegot certain special correction devices etc . it 's a simple tool which is morecomfortable for transcription purposes than word processing programs , that 'sall . ' recommended reading : ehlich , konrad ( 1992 ) hiat - a transcriptionsystem for discourse data . in : edwards , jane a . / lampert , martin d . ( eds. ) talking data . hillsdale n . j . : erlbaum . a couple of other programs (mac and dos ) were mentioned , but they seem to be unfinished so far . why is itthat noone has developed a user-friendly windows - based transcription program ?the above mentioned transcription programs all use the text / music scoreprinciple , i . e . , the conversation is printed in ' running ' systems . ifyou , as i do myself , use standard line transcription , there seems to be verylittle help out there to save you from adjusting a lot whenever you make anychanges or corrections to your transript . one possibility may be a system ofmacros - perhaps this calls for further discussion in this forum ? ? ? thank youto everyone for your cooperation , karsten gramkow karsten gramkow centre forlanguages and intercultural studies aalborg university havrevangen 1 dk - 9000aalborg denmark ph . : + 45 98 15 42 11 , ext . 6229 fax : + 45 98 16 65 66e-mail : gramkow @ hum . auc . dk\n",
      "\n",
      "\n"
     ]
    }
   ],
   "source": [
    "emails = pd.read_csv(\"../data/lingspam-emails.csv\", sep=\"\\t\")\n",
    "for _, row in emails.sample(5).iterrows():\n",
    "    print(f\"Spam: {row['spam']}\\nFile: {row['files']}\\nMessage:\\n{''.join(textwrap.wrap(row['message'], 80))}\\n\\n\")"
   ]
  },
  {
   "cell_type": "markdown",
   "id": "7910b31a-ed98-44d9-aaab-081898d339ea",
   "metadata": {},
   "source": [
    "#### 1.2.1"
   ]
  },
  {
   "cell_type": "code",
   "execution_count": 4,
   "id": "cc239ebf-8d6a-42fe-8b59-3aeb0a861f8e",
   "metadata": {},
   "outputs": [],
   "source": [
    "# p_S_1: Pr(S = 1)\n",
    "# p_S_0: Pr(S = 0)\n",
    "# p_w_1: Pr(w = 1)\n",
    "# p_w_0: Pr(w = 0)\n",
    "# p_w_1_S_1: Pr(w = 1|S = 1)\n",
    "# p_w_0_S_1: Pr(w = 0|S = 1)\n",
    "# p_w_1_S_0: Pr(w = 1|S = 0)\n",
    "# p_w_0_S_0: Pr(w = 0|S = 0)"
   ]
  },
  {
   "cell_type": "markdown",
   "id": "0968c8c2-f6be-4bcf-b358-0a645765360d",
   "metadata": {},
   "source": [
    "#### 1.2.2"
   ]
  },
  {
   "cell_type": "code",
   "execution_count": 5,
   "id": "effb01da-ff8e-4edd-b185-c3d76ab16bb8",
   "metadata": {},
   "outputs": [
    {
     "data": {
      "text/plain": [
       "0.8337366055997235"
      ]
     },
     "execution_count": 5,
     "metadata": {},
     "output_type": "execute_result"
    }
   ],
   "source": [
    "y = emails['spam']\n",
    "\n",
    "majority = y.mode()[0]\n",
    "naive_accuracy = (y == majority).mean()\n",
    "naive_accuracy"
   ]
  },
  {
   "cell_type": "markdown",
   "id": "0535cd7c-405d-498b-802c-8aa2c47fc311",
   "metadata": {},
   "source": [
    "The accuracy should be around 0.834"
   ]
  },
  {
   "cell_type": "markdown",
   "id": "da2f17e6-f24b-43c2-a98c-f115fb8eac0f",
   "metadata": {},
   "source": [
    "#### 1.2.3"
   ]
  },
  {
   "cell_type": "code",
   "execution_count": 6,
   "id": "1874688a-ff78-4752-bed3-0e1e56357796",
   "metadata": {},
   "outputs": [],
   "source": [
    "x = emails['message'].str.lower().str.contains(\"million\").astype(int)"
   ]
  },
  {
   "cell_type": "markdown",
   "id": "ad44b501-c116-4711-928b-d11a6f249162",
   "metadata": {},
   "source": [
    "#### 1.2.4"
   ]
  },
  {
   "cell_type": "code",
   "execution_count": 7,
   "id": "9e30cd91-64d1-4a56-904b-8ba51f0378ff",
   "metadata": {},
   "outputs": [
    {
     "name": "stdout",
     "output_type": "stream",
     "text": [
      "Pr(S = 1): 0.16626339440027654\n",
      "Pr(S = 0): 0.8337366055997235\n"
     ]
    }
   ],
   "source": [
    "p_S_1 = y.mean()\n",
    "p_S_0 = 1 - p_S_1\n",
    "print(f\"Pr(S = 1): {p_S_1}\")\n",
    "print(f\"Pr(S = 0): {p_S_0}\")"
   ]
  },
  {
   "cell_type": "markdown",
   "id": "1d4e777b-e59e-4987-b045-b6edab4cfc96",
   "metadata": {},
   "source": [
    "#### 1.3.1"
   ]
  },
  {
   "cell_type": "code",
   "execution_count": 8,
   "id": "0bd9aaa6-b5f8-4900-9ce9-4dd51b8c10e8",
   "metadata": {},
   "outputs": [
    {
     "name": "stdout",
     "output_type": "stream",
     "text": [
      "Pr(w = 1): 0.04839267196681645\n",
      "Pr(w = 0): 0.9516073280331836\n"
     ]
    }
   ],
   "source": [
    "p_w_1 = x.mean()\n",
    "p_w_0 = 1 - p_w_1\n",
    "print(f\"Pr(w = 1): {p_w_1}\")\n",
    "print(f\"Pr(w = 0): {p_w_0}\")"
   ]
  },
  {
   "cell_type": "markdown",
   "id": "fbafb280-0001-4c95-945b-cd28dad9ba8e",
   "metadata": {},
   "source": [
    "#### 1.3.2"
   ]
  },
  {
   "cell_type": "code",
   "execution_count": 9,
   "id": "b58e9cc7-6811-4b42-9b66-c8f328aff4d0",
   "metadata": {},
   "outputs": [
    {
     "name": "stdout",
     "output_type": "stream",
     "text": [
      "Pr(w = 1|S = 1): 0.24116424116424118\n",
      "Pr(w = 1|S = 0): 0.009950248756218905\n"
     ]
    }
   ],
   "source": [
    "p_w_1_S_1 = (x[y == 1]).mean()\n",
    "p_w_1_S_0 = (x[y == 0]).mean()\n",
    "print(f\"Pr(w = 1|S = 1): {p_w_1_S_1}\")\n",
    "print(f\"Pr(w = 1|S = 0): {p_w_1_S_0}\")"
   ]
  },
  {
   "cell_type": "markdown",
   "id": "c8b2beb6-01de-4161-aafa-56dbe6c89535",
   "metadata": {},
   "source": [
    "#### 1.3.3"
   ]
  },
  {
   "cell_type": "code",
   "execution_count": 10,
   "id": "88c41119-4796-4a72-83a4-c313bc15b954",
   "metadata": {},
   "outputs": [
    {
     "name": "stdout",
     "output_type": "stream",
     "text": [
      "Pr(S = 1|w = 1): 0.8285714285714287\n",
      "Pr(S = 1|w = 0): 0.001738492427076387\n",
      "Pr(S = 0|w = 1): 0.17142857142857126\n",
      "Pr(S = 0|w = 0): 0.9982615075729236\n"
     ]
    }
   ],
   "source": [
    "p_S_1_w_1 = (p_w_1_S_1 * p_S_1) / p_w_1\n",
    "p_S_1_w_0 = (p_w_1_S_0 * p_S_1) / p_w_0\n",
    "print(f\"Pr(S = 1|w = 1): {p_S_1_w_1}\")\n",
    "print(f\"Pr(S = 1|w = 0): {p_S_1_w_0}\")\n",
    "\n",
    "p_S_0_w_1 = 1 - p_S_1_w_1\n",
    "p_S_0_w_0 = 1 - p_S_1_w_0\n",
    "print(f\"Pr(S = 0|w = 1): {p_S_0_w_1}\")\n",
    "print(f\"Pr(S = 0|w = 0): {p_S_0_w_0}\")"
   ]
  },
  {
   "cell_type": "markdown",
   "id": "d9859514-7d16-4d4b-a411-19a140084111",
   "metadata": {},
   "source": [
    "#### 1.3.4"
   ]
  },
  {
   "cell_type": "markdown",
   "id": "661fad79-ae6c-460f-8cc3-61b122874865",
   "metadata": {},
   "source": [
    "The outcomes of a given occurrence that are exhaustive and mutually exclusive are represented by probabilities that add up to one. In this situation, Pr(S = 1|w = 1) and Pr(S = 0|w = 1) must add up to one since an email containing the term \"million\" can only be considered spam or not. Pr(S = 1|w = 0) and Pr(S = 0|w = 0) are equivalent. Probabilities like Pr(w = 1|S = 1) and Pr(w = 1|S = 0), on the other hand, do not have to add up to one since they do not represent all possible outcomes for a particular event. For example, an email including the word \"million\" may be considered spam, but so might any other word."
   ]
  },
  {
   "cell_type": "markdown",
   "id": "58881563-52a8-4a67-9715-2f155b6a2a1c",
   "metadata": {},
   "source": [
    "#### 1.4.1"
   ]
  },
  {
   "cell_type": "code",
   "execution_count": 11,
   "id": "d730ad5f-b5b9-4bfa-bdc1-242b0eb1aa61",
   "metadata": {},
   "outputs": [],
   "source": [
    "y_pred = (p_S_1_w_1 > 0.5) * x + (p_S_1_w_0 > 0.5) * (1 - x)"
   ]
  },
  {
   "cell_type": "markdown",
   "id": "1a6fe3a5-65f2-4878-967b-1af504278951",
   "metadata": {},
   "source": [
    "#### 1.4.2"
   ]
  },
  {
   "cell_type": "code",
   "execution_count": 12,
   "id": "f4c705e6-ce33-46e0-8716-7c082141bcee",
   "metadata": {},
   "outputs": [
    {
     "name": "stdout",
     "output_type": "stream",
     "text": [
      "Confusion Matrix:\n",
      "[[2388   24]\n",
      " [ 365  116]]\n",
      "Accuracy: 0.8655375043207743\n",
      "Precision: 0.8285714285714286\n",
      "Recall: 0.24116424116424118\n"
     ]
    }
   ],
   "source": [
    "confusion = confusion_matrix(y, y_pred)\n",
    "accuracy = accuracy_score(y, y_pred)\n",
    "precision = precision_score(y, y_pred)\n",
    "recall = recall_score(y, y_pred)\n",
    "\n",
    "print(\"Confusion Matrix:\")\n",
    "print(confusion)\n",
    "print(f\"Accuracy: {accuracy}\")\n",
    "print(f\"Precision: {precision}\")\n",
    "print(f\"Recall: {recall}\")"
   ]
  },
  {
   "cell_type": "markdown",
   "id": "2bde98ce-48ef-4377-a72a-259ae354c949",
   "metadata": {},
   "source": [
    "#### 1.4.3"
   ]
  },
  {
   "cell_type": "markdown",
   "id": "874dd74f-24cb-48a0-9ed1-84de3ebb8b7a",
   "metadata": {},
   "source": [
    "The priors (Pr(S = 1) and Pr(S = 0)) and conditional probabilities (Pr(w = 1|S = 1), Pr(w = 1|S = 0), Pr(S = 1|w = 1), and Pr(S = 1|w = 0)) are computed during the model training stages. The model is described by these probabilities. We employ the trained model in two stages: first, we use these probabilities to forecast whether each email is spam or not, and then we calculate the confusion matrix, accuracy, precision, and recall to assess the model's performance. The set of computed probabilities that we employ in this instance to generate predictions is known as the trained model."
   ]
  },
  {
   "cell_type": "markdown",
   "id": "6d0860c8-8de1-4d72-9d1b-d5f1c3ff8226",
   "metadata": {},
   "source": [
    "#### 1.5.1"
   ]
  },
  {
   "cell_type": "code",
   "execution_count": 45,
   "id": "44a10104-aad2-47b2-8082-775cc5619a73",
   "metadata": {},
   "outputs": [
    {
     "name": "stdout",
     "output_type": "stream",
     "text": [
      "Word: conference\n",
      "Confusion Matrix:\n",
      "[[2412    0]\n",
      " [ 481    0]]\n",
      "Accuracy: 0.8337366055997235\n",
      "Precision: 0.0\n",
      "Recall: 0.0\n",
      "\n",
      "Word: the\n",
      "Confusion Matrix:\n",
      "[[2412    0]\n",
      " [ 481    0]]\n",
      "Accuracy: 0.8337366055997235\n",
      "Precision: 0.0\n",
      "Recall: 0.0\n",
      "\n",
      "Word: offer\n",
      "Confusion Matrix:\n",
      "[[2412    0]\n",
      " [ 481    0]]\n",
      "Accuracy: 0.8337366055997235\n",
      "Precision: 0.0\n",
      "Recall: 0.0\n",
      "\n",
      "Word: free\n",
      "Confusion Matrix:\n",
      "[[2191  221]\n",
      " [ 183  298]]\n",
      "Accuracy: 0.8603525751814726\n",
      "Precision: 0.5741811175337187\n",
      "Recall: 0.6195426195426196\n",
      "\n",
      "Word: lottery\n",
      "Confusion Matrix:\n",
      "[[2412    0]\n",
      " [ 457   24]]\n",
      "Accuracy: 0.8420324922226063\n",
      "Precision: 1.0\n",
      "Recall: 0.0498960498960499\n",
      "\n"
     ]
    },
    {
     "name": "stderr",
     "output_type": "stream",
     "text": [
      "/opt/conda/lib/python3.10/site-packages/sklearn/metrics/_classification.py:1471: UndefinedMetricWarning: Precision is ill-defined and being set to 0.0 due to no predicted samples. Use `zero_division` parameter to control this behavior.\n",
      "  _warn_prf(average, modifier, msg_start, len(result))\n",
      "/opt/conda/lib/python3.10/site-packages/sklearn/metrics/_classification.py:1471: UndefinedMetricWarning: Precision is ill-defined and being set to 0.0 due to no predicted samples. Use `zero_division` parameter to control this behavior.\n",
      "  _warn_prf(average, modifier, msg_start, len(result))\n",
      "/opt/conda/lib/python3.10/site-packages/sklearn/metrics/_classification.py:1471: UndefinedMetricWarning: Precision is ill-defined and being set to 0.0 due to no predicted samples. Use `zero_division` parameter to control this behavior.\n",
      "  _warn_prf(average, modifier, msg_start, len(result))\n"
     ]
    }
   ],
   "source": [
    "def word_performance(word):\n",
    "    x = emails.message.str.lower().str.contains(word)\n",
    "    \n",
    "    p_w_1 = x.mean()\n",
    "    p_w_0 = 1 - p_w_1\n",
    "    p_w_1_S_1 = (x[y == 1]).mean()\n",
    "    p_w_1_S_0 = (x[y == 0]).mean()\n",
    "    p_w_0_S_1 = 1 - p_w_1_S_1\n",
    "    p_S_1_w_1 = (p_w_1_S_1 * p_S_1) / p_w_1\n",
    "    p_S_1_w_0 = (p_w_0_S_1 * p_S_1) / p_w_0\n",
    "    \n",
    "    y_pred = (p_S_1_w_1 > 0.5) * x + (p_S_1_w_0 > 0.5) * (1 - x)\n",
    "    \n",
    "    confusion = confusion_matrix(y, y_pred)\n",
    "    accuracy = accuracy_score(y, y_pred)\n",
    "    precision = precision_score(y, y_pred)\n",
    "    recall = recall_score(y, y_pred)\n",
    "    \n",
    "    print(f\"Word: {word}\")\n",
    "    print(\"Confusion Matrix:\")\n",
    "    print(confusion)\n",
    "    print(f\"Accuracy: {accuracy}\")\n",
    "    print(f\"Precision: {precision}\")\n",
    "    print(f\"Recall: {recall}\")\n",
    "    print()\n",
    "    \n",
    "words = [\"conference\", \"the\", \"offer\", \"free\", \"lottery\"]\n",
    "for word in words:\n",
    "    word_performance(word)"
   ]
  },
  {
   "cell_type": "markdown",
   "id": "9a1d68d9-aed6-435e-9b79-a85499ff1b73",
   "metadata": {},
   "source": [
    "#### 1.5.2"
   ]
  },
  {
   "cell_type": "markdown",
   "id": "6579887e-1c23-49dd-a0ab-afcaa4a8a3cd",
   "metadata": {},
   "source": [
    "Accuracy appears to be excellent overall. The selected term has a substantial impact on precision; for instance, \"free\" has a precision of 0.57 and \"lottery\" has a precision of 1. All words have minimal recall, with the exception of \"free,\" which has a recall of 0.62. This implies that even while the model occasionally detects spam emails accurately, it frequently misses the majority of them."
   ]
  },
  {
   "cell_type": "markdown",
   "id": "71c7dc10-804d-40b2-8b88-e8845b8f38a7",
   "metadata": {},
   "source": [
    "#### 1.5.3"
   ]
  },
  {
   "cell_type": "markdown",
   "id": "a91a2e85-95eb-4b28-b837-1a1c5a942cb1",
   "metadata": {},
   "source": [
    "I think the reason why the recall so low is that we miss a number of spam emails in that. However, the model actually predict them as non-spam emails. This is probably due to the fact that the model's word choices are not distinctive nor exclusive to spam emails. For instance, \"conference\" and \"the\" are not always indicative of spam as they are frequently used in emails that are not spam. However, although though the term \"lottery\" is a reliable indicator of spam, it only occurs in a small percentage of spam emails, meaning that relying just on this word would miss a large number of spam emails."
   ]
  },
  {
   "cell_type": "markdown",
   "id": "081cd753-dd05-49b9-9742-56984cfa9be3",
   "metadata": {},
   "source": [
    "#### 1.5.4"
   ]
  },
  {
   "cell_type": "markdown",
   "id": "8b02fe5b-1c14-45f7-844e-5e1b36a9083f",
   "metadata": {},
   "source": [
    "The word \"million\" increases accuracy because it is frequently linked to spam emails (such as lottery scams)."
   ]
  },
  {
   "cell_type": "markdown",
   "id": "ce526519-411d-4daf-97e7-9f2e5e5edf1b",
   "metadata": {},
   "source": [
    "Since \"conference\" is frequently used in reputable academic emails that are included in the dataset, it does not function well."
   ]
  },
  {
   "cell_type": "markdown",
   "id": "0fb11371-4a00-4b37-be7d-5dd652b69a63",
   "metadata": {},
   "source": [
    "\"The\" does not work because it's a very common word in all types of emails, spam and non-spam alike"
   ]
  },
  {
   "cell_type": "markdown",
   "id": "9bc4b70a-fb46-4df6-967d-7b5dff9d8655",
   "metadata": {},
   "source": [
    "With recall values of 0.00 and 0.05, respectively, the terms \"offer\" and \"lottery\" both perform poorly with this dataset, indicating that they are not reliable markers of spam. With a precision of 0.57, the term \"free\" is only roughly 57% accurate in predicting an email to be spam, even if its recall of 0.62 suggests it is a better indicator of spam emails."
   ]
  },
  {
   "cell_type": "markdown",
   "id": "d59bdf98-32b9-402a-a309-4795f337f3ad",
   "metadata": {},
   "source": [
    "### Naive Bayes"
   ]
  },
  {
   "cell_type": "markdown",
   "id": "b0b3cf36-f621-42ec-841a-33303754b202",
   "metadata": {},
   "source": [
    "#### 2.1.1"
   ]
  },
  {
   "cell_type": "code",
   "execution_count": 14,
   "id": "6e4373ad-03e7-4222-83e0-106723cd8bef",
   "metadata": {},
   "outputs": [
    {
     "name": "stdout",
     "output_type": "stream",
     "text": [
      "Documents: 2893\n",
      "Tokens: 60925\n"
     ]
    }
   ],
   "source": [
    "vectorizer = CountVectorizer(binary=True)\n",
    "X = vectorizer.fit_transform(emails.message)\n",
    "vocabulary = vectorizer.get_feature_names_out()\n",
    "\n",
    "print(\"Documents:\", X.shape[0])\n",
    "print(\"Tokens:\", X.shape[1])"
   ]
  },
  {
   "cell_type": "markdown",
   "id": "4989b430-38d2-4539-b385-3a1627824bc9",
   "metadata": {},
   "source": [
    "There's 2893 documents and 60925 tokens here."
   ]
  },
  {
   "cell_type": "markdown",
   "id": "78370841-6fa7-4d26-957b-db13f27870c3",
   "metadata": {},
   "source": [
    "#### 2.1.2"
   ]
  },
  {
   "cell_type": "code",
   "execution_count": 15,
   "id": "aa6304f8-cb01-4713-92aa-0a87b268d908",
   "metadata": {},
   "outputs": [
    {
     "data": {
      "text/plain": [
       "array([[0, 0, 0, 0, 0],\n",
       "       [0, 1, 0, 1, 0],\n",
       "       [0, 0, 0, 0, 0]])"
      ]
     },
     "execution_count": 15,
     "metadata": {},
     "output_type": "execute_result"
    }
   ],
   "source": [
    "X[982:985, 40041:40046].toarray()"
   ]
  },
  {
   "cell_type": "markdown",
   "id": "6609be37-7a4b-48b0-a300-15f04e9a37dc",
   "metadata": {},
   "source": [
    "Each row in the DTM represents a single email, and the rows itself correspond to individual emails. Thus, the 983rd, 984th, and 985th emails in the dataset are represented by rows 983 to 985."
   ]
  },
  {
   "cell_type": "code",
   "execution_count": 16,
   "id": "d574f354-a7ea-43df-8767-be4e59785da8",
   "metadata": {},
   "outputs": [
    {
     "data": {
      "text/plain": [
       "array(['nootka', 'nope', 'nor', 'nora'], dtype=object)"
      ]
     },
     "execution_count": 16,
     "metadata": {},
     "output_type": "execute_result"
    }
   ],
   "source": [
    "vocabulary[40042:40046]"
   ]
  },
  {
   "cell_type": "markdown",
   "id": "1d1297ea-fc91-4ed6-a835-5b76b5971dee",
   "metadata": {},
   "source": [
    "The 40,042nd, 40,043rd, 40,044th, 40,045th, and 40,046th unique words in the corpus are represented by the columns 40,042 through 40,046. These words are as follows:'nootka', 'nope', 'nor', 'nora'"
   ]
  },
  {
   "cell_type": "markdown",
   "id": "39c477e6-465b-45dd-80b2-d5354f74eebd",
   "metadata": {},
   "source": [
    "The \"1\"s in the matrix mean that the corresponding word (column) is present in the corresponding email (row)."
   ]
  },
  {
   "cell_type": "markdown",
   "id": "108d0217-f960-4b9c-b4c8-1a4925ef9012",
   "metadata": {},
   "source": [
    "The \"0\"s in the matrix mean that the corresponding word (column) is not present in the corresponding email (row)"
   ]
  },
  {
   "cell_type": "markdown",
   "id": "ddd83a05-43d2-46ca-831a-777fa5a0d17d",
   "metadata": {},
   "source": [
    "#### 2.1.3"
   ]
  },
  {
   "cell_type": "code",
   "execution_count": 17,
   "id": "1d73cea0-b456-40b5-a232-a3e24397e813",
   "metadata": {},
   "outputs": [],
   "source": [
    "X_train, X_val, y_train, y_val = train_test_split(X, y, test_size=0.2, random_state=42)"
   ]
  },
  {
   "cell_type": "markdown",
   "id": "2a4f0384-eb4b-4caf-99f1-e592d848dd55",
   "metadata": {},
   "source": [
    "#### 2.1.4"
   ]
  },
  {
   "cell_type": "markdown",
   "id": "732abe69-dcec-46bf-97eb-200ef853dbcf",
   "metadata": {},
   "source": [
    "I gave some names to use underscores to distinguish between various parts and the prefix log_ to indicate that they are log probabilities or log-likelihoods. \"Probability\" and \"likelihood\" are represented by the letters Pr and L, respectively. The letters W and S stand for \"word\" and \"spam\" respectively. The digits 1 and 0 denote whether a term is present (1) or absent (0), or whether an email is spam (1) or not."
   ]
  },
  {
   "cell_type": "code",
   "execution_count": 18,
   "id": "aee85450-520f-4697-b4da-7c74a13cfb7a",
   "metadata": {},
   "outputs": [],
   "source": [
    "# log_Pr_W_1: log probability of a word being present\n",
    "# log_Pr_W_0: log probability of a word being absent\n",
    "# log_L_S_1_W: log-likelihood of an email being spam, given the vector of words it contains\n",
    "# log_L_S_0_W: log-likelihood of an email being non-spam, given the vector of words it contains"
   ]
  },
  {
   "cell_type": "markdown",
   "id": "7bb848ee-55e2-4869-9029-f9fec9a63bfa",
   "metadata": {},
   "source": [
    "#### 2.2.1"
   ]
  },
  {
   "cell_type": "code",
   "execution_count": 25,
   "id": "b6542235-a6b9-4a8e-b8ea-a08e7cfc8279",
   "metadata": {},
   "outputs": [
    {
     "data": {
      "text/plain": [
       "-1.7678471428525"
      ]
     },
     "execution_count": 25,
     "metadata": {},
     "output_type": "execute_result"
    }
   ],
   "source": [
    "Pr_S_1 = np.mean(y_train == 1)\n",
    "Pr_S_0 = np.mean(y_train == 0)\n",
    "\n",
    "log_Pr_S_1 = np.log(Pr_S_1)\n",
    "log_Pr_S_0 = np.log(Pr_S_0)\n",
    "\n",
    "log_Pr_S_1"
   ]
  },
  {
   "cell_type": "code",
   "execution_count": 26,
   "id": "333868fd-d672-4fd7-9986-9a91fe6c8899",
   "metadata": {},
   "outputs": [
    {
     "data": {
      "text/plain": [
       "-0.18717341174592203"
      ]
     },
     "execution_count": 26,
     "metadata": {},
     "output_type": "execute_result"
    }
   ],
   "source": [
    "log_Pr_S_0"
   ]
  },
  {
   "cell_type": "markdown",
   "id": "9da347e3-b611-4ab2-90ed-96b7efd193e4",
   "metadata": {},
   "source": [
    "Log Probability that the email is spam: -1.7678471428525 Conversely, the Log Probability that the email is no spam is: -0.18717341174592203"
   ]
  },
  {
   "cell_type": "markdown",
   "id": "4b2922e0-3020-4dc5-8b0b-5e3d4a40b311",
   "metadata": {},
   "source": [
    "#### 2.2.2"
   ]
  },
  {
   "cell_type": "code",
   "execution_count": 31,
   "id": "382acd16-5552-4ceb-8eb5-d638f65e0f66",
   "metadata": {},
   "outputs": [],
   "source": [
    "num_spam = np.sum(y_train == 1)\n",
    "num_non_spam = np.sum(y_train == 0)\n",
    "\n",
    "X_spam = X_train[y_train == 1, :]\n",
    "X_non_spam = X_train[y_train == 0, :]\n",
    "\n",
    "word_counts_spam = np.sum(X_spam, axis=0)\n",
    "word_counts_non_spam = np.sum(X_non_spam, axis=0)\n",
    "\n",
    "smooth_factor = 1\n",
    "vocab_size = X_train.shape[1]\n",
    "\n",
    "word_counts_spam_smoothed = word_counts_spam + smooth_factor\n",
    "word_counts_non_spam_smoothed = word_counts_non_spam + smooth_factor\n",
    "\n",
    "Pr_W_1_S_1 = word_counts_spam_smoothed / (num_spam + smooth_factor * vocab_size)\n",
    "Pr_W_1_S_0 = word_counts_non_spam_smoothed / (num_non_spam + smooth_factor * vocab_size)\n",
    "\n",
    "log_Pr_W_1_S_1 = np.log(Pr_W_1_S_1_smoothed)\n",
    "log_Pr_W_1_S_0 = np.log(Pr_W_1_S_0_smoothed)"
   ]
  },
  {
   "cell_type": "markdown",
   "id": "3c3e7ce0-39e7-453a-84bb-4c142aa033a0",
   "metadata": {},
   "source": [
    "#### 2.2.3"
   ]
  },
  {
   "cell_type": "markdown",
   "id": "6a5f3579-1351-42f3-9395-707dd79b9a87",
   "metadata": {},
   "source": [
    "The number of unique words should be the same as the dimension of the log Pr(W = 1|S = 0) and log Pr(W = 1|S = 1) vectors. This is so because each member in these vectors represents a distinct word, and each element's value indicates the log chance that word will appear in either a spam or non-spam email."
   ]
  },
  {
   "cell_type": "markdown",
   "id": "7f36ab75-d65b-4f73-8e7c-9fa0d1a465c5",
   "metadata": {},
   "source": [
    "#### 2.3.1"
   ]
  },
  {
   "cell_type": "code",
   "execution_count": 32,
   "id": "214c0186-3dd1-45e8-99b6-fd4735ee70e0",
   "metadata": {},
   "outputs": [],
   "source": [
    "log_Pr_W_1_S_1 = log_Pr_W_1_S_1.reshape(-1, 1)\n",
    "log_Pr_W_1_S_0 = log_Pr_W_1_S_0.reshape(-1, 1)\n",
    "\n",
    "log_L_S_1 = X_val @ log_Pr_W_1_S_1 + log_Pr_S_1\n",
    "log_L_S_0 = X_val @ log_Pr_W_1_S_0 + log_Pr_S_0"
   ]
  },
  {
   "cell_type": "markdown",
   "id": "a19c5d43-3122-4afa-b84b-997efc311039",
   "metadata": {},
   "source": [
    "#### 2.3.2"
   ]
  },
  {
   "cell_type": "code",
   "execution_count": 33,
   "id": "4244bd44-cf07-44f3-802d-93c422c90e91",
   "metadata": {},
   "outputs": [
    {
     "data": {
      "text/plain": [
       "579"
      ]
     },
     "execution_count": 33,
     "metadata": {},
     "output_type": "execute_result"
    }
   ],
   "source": [
    "num_log_likelihoods = X_val.shape[0]\n",
    "num_log_likelihoods"
   ]
  },
  {
   "cell_type": "markdown",
   "id": "8c1f99cf-7a52-4632-a339-9f988632db39",
   "metadata": {},
   "source": [
    "I got 579 likelihoods here just for the validation data, which is just for the non-spam words."
   ]
  },
  {
   "cell_type": "markdown",
   "id": "4ef3ef31-4bcb-49f6-bbbb-b0d9c8338c10",
   "metadata": {},
   "source": [
    "#### 2.3.3"
   ]
  },
  {
   "cell_type": "code",
   "execution_count": 34,
   "id": "1032749f-2dc5-4207-9b05-b828615e676f",
   "metadata": {},
   "outputs": [],
   "source": [
    "predictions = np.where(log_L_S_1 > log_L_S_0, 1, 0)\n",
    "confusion = confusion_matrix(y_val, predictions)\n",
    "accuracy = accuracy_score(y_val, predictions)"
   ]
  },
  {
   "cell_type": "markdown",
   "id": "66a6d8b5-883f-4175-8577-4987bfe8ff5e",
   "metadata": {},
   "source": [
    "#### 2.3.4"
   ]
  },
  {
   "cell_type": "code",
   "execution_count": 35,
   "id": "8526e0d2-0075-46dc-8a4b-268a4fc23cb9",
   "metadata": {},
   "outputs": [
    {
     "data": {
      "text/plain": [
       "array([[493,   0],\n",
       "       [ 86,   0]])"
      ]
     },
     "execution_count": 35,
     "metadata": {},
     "output_type": "execute_result"
    }
   ],
   "source": [
    "confusion "
   ]
  },
  {
   "cell_type": "markdown",
   "id": "12981c05-f9b1-45bd-b27a-edf63ee58ce2",
   "metadata": {},
   "source": [
    "So the confusion matrix would be above."
   ]
  },
  {
   "cell_type": "code",
   "execution_count": 36,
   "id": "54c53d60-587f-40f8-864f-6a4b27a97ad4",
   "metadata": {},
   "outputs": [
    {
     "data": {
      "text/plain": [
       "0.8514680483592401"
      ]
     },
     "execution_count": 36,
     "metadata": {},
     "output_type": "execute_result"
    }
   ],
   "source": [
    "accuracy"
   ]
  },
  {
   "cell_type": "markdown",
   "id": "0f146610-db5c-49da-bbcb-4a3ec6d9c232",
   "metadata": {},
   "source": [
    "I got around 0.851 as accuracy."
   ]
  },
  {
   "cell_type": "markdown",
   "id": "ef6d897c-5927-4a6e-9f1e-51917f4170b7",
   "metadata": {},
   "source": [
    "#### 2.3.5"
   ]
  },
  {
   "cell_type": "markdown",
   "id": "4918b387-0125-4825-818d-cd59d0d93b16",
   "metadata": {},
   "source": [
    "The zeros in the log probability are the cause of this. The probability of a class being given a word in the email will be zero if the word does not exist in the training set for that class because we are multiplying probabilities together. This could result in a zero total product, which would produce underflow problems and skew the model in favor of classes who have seen every word in the test set."
   ]
  },
  {
   "cell_type": "markdown",
   "id": "e08415ac-43ce-48e9-9fcf-e4d818fd796b",
   "metadata": {},
   "source": [
    "#### 2.4.1 & 2.4.2"
   ]
  },
  {
   "cell_type": "code",
   "execution_count": 38,
   "id": "a7697015-d16b-40df-b1e8-3651c333e64a",
   "metadata": {},
   "outputs": [],
   "source": [
    "def fit_NB(X, y, alpha):\n",
    "    n_spam = np.sum(y == 1)\n",
    "    n_nonspam = np.sum(y == 0)\n",
    "\n",
    "    log_Pr_S_1 = np.log(n_spam / len(y))\n",
    "    log_Pr_S_0 = np.log(n_nonspam / len(y))\n",
    "    \n",
    "    n_word_spam = np.squeeze(np.asarray(X[y == 1].sum(axis=0))) + alpha\n",
    "    n_word_nonspam = np.squeeze(np.asarray(X[y == 0].sum(axis=0))) + alpha\n",
    "\n",
    "    log_Pr_W_1_S_1 = np.log(n_word_spam / (n_spam + 2 * alpha))\n",
    "    log_Pr_W_1_S_0 = np.log(n_word_nonspam / (n_nonspam + 2 * alpha))\n",
    "\n",
    "    return log_Pr_S_1, log_Pr_S_0, log_Pr_W_1_S_1, log_Pr_W_1_S_0\n",
    "\n",
    "def predict_NB(X, log_Pr_S_1, log_Pr_S_0, log_Pr_W_1_S_1, log_Pr_W_1_S_0):\n",
    "    log_L_S_1 = X @ log_Pr_W_1_S_1 + log_Pr_S_1\n",
    "    log_L_S_0 = X @ log_Pr_W_1_S_0 + log_Pr_S_0\n",
    "    predictions = np.where(log_L_S_1 > log_L_S_0, 1, 0)\n",
    "    return predictions"
   ]
  },
  {
   "cell_type": "markdown",
   "id": "b7963b04-895b-45ed-891e-61075e37200b",
   "metadata": {},
   "source": [
    "#### 2.4.3"
   ]
  },
  {
   "cell_type": "code",
   "execution_count": 40,
   "id": "a695cc85-21fc-49c3-99b9-101021bfd2eb",
   "metadata": {},
   "outputs": [
    {
     "name": "stdout",
     "output_type": "stream",
     "text": [
      "Alpha: 1e-08, Accuracy: 0.9792746113989638\n",
      "Alpha: 1e-07, Accuracy: 0.9810017271157168\n",
      "Alpha: 1e-06, Accuracy: 0.9861830742659758\n",
      "Alpha: 1e-05, Accuracy: 0.9861830742659758\n",
      "Alpha: 0.0001, Accuracy: 0.9879101899827288\n",
      "Alpha: 0.001, Accuracy: 0.9930915371329879\n",
      "Alpha: 0.01, Accuracy: 0.9930915371329879\n",
      "Alpha: 0.1, Accuracy: 0.9948186528497409\n",
      "Alpha: 1, Accuracy: 0.917098445595855\n"
     ]
    }
   ],
   "source": [
    "alpha_values = [10**i for i in range(-8, 1)]\n",
    "accuracy1 = []\n",
    "\n",
    "for alpha in alpha_values:\n",
    "    log_Pr_S_1, log_Pr_S_0, log_Pr_W_1_S_1, log_Pr_W_1_S_0 = fit_NB(X_train, y_train, alpha)\n",
    "    predictions = predict_NB(X_val, log_Pr_S_1, log_Pr_S_0, log_Pr_W_1_S_1, log_Pr_W_1_S_0)\n",
    "    accuracy = accuracy_score(y_val, predictions)\n",
    "    accuracy1.append(accuracy)\n",
    "    print(f'Alpha: {alpha}, Accuracy: {accuracy}')"
   ]
  },
  {
   "cell_type": "markdown",
   "id": "215dfc7c-74d9-4c81-ac5b-906f9bc6efc6",
   "metadata": {},
   "source": [
    "#### 2.4.4"
   ]
  },
  {
   "cell_type": "code",
   "execution_count": 41,
   "id": "376de0e4-8f6e-4ce8-9a30-d43f2aabccb1",
   "metadata": {},
   "outputs": [
    {
     "data": {
      "text/plain": [
       "0.1"
      ]
     },
     "execution_count": 41,
     "metadata": {},
     "output_type": "execute_result"
    }
   ],
   "source": [
    "alpha1 = alpha_values[np.argmax(accuracy1)]\n",
    "alpha1"
   ]
  },
  {
   "cell_type": "markdown",
   "id": "b4e401a6-026f-459c-9621-2810c3a737b1",
   "metadata": {},
   "source": [
    "So the best Alpha should be 0.1. Relatively, the best accuracy should be 0.99."
   ]
  },
  {
   "cell_type": "markdown",
   "id": "517f37fd-f96e-4308-8201-a03f3df4bd36",
   "metadata": {},
   "source": [
    "#### 2.4.5"
   ]
  },
  {
   "cell_type": "code",
   "execution_count": 42,
   "id": "17260f60-e988-43ae-a8f4-3b6b410c4f5f",
   "metadata": {},
   "outputs": [
    {
     "data": {
      "image/png": "[encoded data removed]",
      "text/plain": [
       "<Figure size 1000x600 with 1 Axes>"
      ]
     },
     "metadata": {},
     "output_type": "display_data"
    }
   ],
   "source": [
    "plt.figure(figsize=(10, 6))\n",
    "plt.plot(alpha_values, accuracy1, marker='o')\n",
    "plt.xscale('log')\n",
    "plt.xlabel('Alpha')\n",
    "plt.ylabel('Accuracy')\n",
    "plt.title('Accuracy vs. Alpha')\n",
    "plt.show()"
   ]
  }
 ],
 "metadata": {
  "kernelspec": {
   "display_name": "Python 3 (ipykernel)",
   "language": "python",
   "name": "python3"
  },
  "language_info": {
   "codemirror_mode": {
    "name": "ipython",
    "version": 3
   },
   "file_extension": ".py",
   "mimetype": "text/x-python",
   "name": "python",
   "nbconvert_exporter": "python",
   "pygments_lexer": "ipython3",
   "version": "3.10.13"
  }
 },
 "nbformat": 4,
 "nbformat_minor": 5
}
