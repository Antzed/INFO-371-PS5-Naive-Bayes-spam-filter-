{
 "cells": [
  {
   "cell_type": "markdown",
   "id": "9572fab7-d95b-42bc-a8b2-7936640f308b",
   "metadata": {},
   "source": [
    "# PS5 Naive Bayes spam filter\n",
    "Finished collectively by Anthony Zhang, Yixin Lyu, William Wang"
   ]
  },
  {
   "cell_type": "code",
   "execution_count": 140,
   "id": "a29b15ec-13c3-40b1-a502-3c9dd2d9f4e2",
   "metadata": {},
   "outputs": [],
   "source": [
    "import pandas as pd\n",
    "import numpy as np\n",
    "import matplotlib.pyplot as plt\n",
    "from textwrap import wrap\n",
    "from sklearn.metrics import confusion_matrix, accuracy_score\n",
    "from sklearn.feature_extraction.text import CountVectorizer\n",
    "from sklearn.model_selection import train_test_split"
   ]
  },
  {
   "cell_type": "markdown",
   "id": "db882af0-2406-4283-a480-e17c77362e90",
   "metadata": {},
   "source": [
    "## 1.\n",
    "### 1.1"
   ]
  },
  {
   "cell_type": "code",
   "execution_count": 141,
   "id": "58cb16a1-2cf5-429e-a2d4-1404da065555",
   "metadata": {},
   "outputs": [],
   "source": [
    "spam = pd.read_csv(\"../data/lingspam-emails.csv.bz2\",\n",
    "                 \tsep = \"\\t\")"
   ]
  },
  {
   "cell_type": "code",
   "execution_count": 142,
   "id": "aec90189-d080-4140-a6cf-340434aaa693",
   "metadata": {},
   "outputs": [
    {
     "name": "stdout",
     "output_type": "stream",
     "text": [
      "non spam messages:\n",
      "Subject: re : 2 . 882 s - > np np  > date : sun , 15 dec 91 02 : 25 :\n",
      "02 est > from : michael < mmorse @ vm1 . yorku . ca > > subject : re :\n",
      "2 . 864 queries > > wlodek zadrozny asks if there is \" anything\n",
      "interesting \" to be said > about the construction \" s > np np \" . . .\n",
      "second , > and very much related : might we consider the construction\n",
      "to be a form > of what has been discussed on this list of late as\n",
      "reduplication ? the > logical sense of \" john mcnamara the name \" is\n",
      "tautologous and thus , at > that level , indistinguishable from \" well\n",
      ", well now , what have we here ? \" . to say that ' john mcnamara the\n",
      "name ' is tautologous is to give support to those who say that a\n",
      "logic-based semantics is irrelevant to natural language . in what\n",
      "sense is it tautologous ? it supplies the value of an attribute\n",
      "followed by the attribute of which it is the value . if in fact the\n",
      "value of the name-attribute for the relevant entity were ' chaim\n",
      "shmendrik ' , ' john mcnamara the name ' would be false . no tautology\n",
      ", this . ( and no reduplication , either . ) \n",
      "\n",
      "Subject: s - > np + np  the discussion of s - > np + np reminds me\n",
      "that some years ago i read , in a source now forgotten , a critique of\n",
      "some newsmagazines ' unique tendencies in writing style , most of\n",
      "which the writer found overly \" cute \" . one item was tersely put down\n",
      "as follows : \" time 's favorite : the colon . \" - - - - - - - - - - -\n",
      "- - - - - - - - - - - - - - - - - - - - - - - - lee hartman ga5123 @\n",
      "siucvmb . bitnet department of foreign languages southern illinois\n",
      "university carbondale , il 62901 u . s . a . \n",
      "\n",
      "Subject: 2 . 882 s - > np np  . . . for me it 's much more restrictive\n",
      "than s - > np np . it 's \" no \" np pro quite an over-restriction ,\n",
      "that . \n",
      "\n",
      "spam messages:\n",
      "Subject: great part-time or summer job !  * * * * * * * * * * * * * *\n",
      "* we have display boxes with credit applications that we need to place\n",
      "in the small owner-operated stores in your area . here is what you do\n",
      ": 1 . introduce yourself to the store owner or manager . 2 . use our\n",
      "90 % effective script which tells them how this little display box\n",
      "will save their customers hundreds of dollars , be a drawing card for\n",
      "their business , and make them from $ 5 . 00 to $ 15 . 00 or more for\n",
      "every app sent in . 3 . find a good spot on the counter , place the\n",
      "box there , and say that nothing more need be done , all you need is\n",
      "his name and address so the company can send him the commission checks\n",
      ". your compensaation will be $ 10 for every box you place . by\n",
      "becoming a representative you could also earn a commission of $ 10 for\n",
      "each application that came from that store . that is of course a much\n",
      "more profitable plan , as it will pay you for months or years for a\n",
      "very small effort . call 1-888 - 703-5390 code 3 24 hours to receive\n",
      "the details ! ! * * * * * * * * * * * * * * * * * * * * * * * * * * *\n",
      "* * * * * * * * * * * * * * * * * * * * * * * * * * * * * * * * * * *\n",
      "* * * * * * * * * * * * * * * * * * * * * * * * * * * * * * * * * * *\n",
      "* * * * * * * * * * * * * * * * * * * * * * * * * * * * * * * * * * *\n",
      "* * * * * * * * * * * * * * * * * * * * * * * * * * * * * * * * * * *\n",
      "* * * * * * * * * * * * * * * * to be removed from our mailing list ,\n",
      "type : b2998 @ hotmail . com in the ( to : ) area and ( remove ) in\n",
      "the subject area of a new e - mail and send . * * * * * * * * * * * *\n",
      "* * * * * * * * * * * * * * * * * * * * * * * * * * * * * * * * * * *\n",
      "* * * * * * * * * * * * * * * * * * * * * * * * * * * * * * * * * * *\n",
      "* * * * * * * * * * * * * * * * * * * * * * * * * * * * * * * * * * *\n",
      "* * * * * * * * * * * * * * * \n",
      "\n",
      "Subject: auto insurance rates too high ?  dear nlpeople , i ' m sure\n",
      "you ' ll agree auto insurance costs too much . even with a good\n",
      "driving record , \" routine \" rate increases can drive your costs\n",
      "through the roof . i have discovered a way many people can sign up\n",
      "with an excellent company that gives amazingly low rates . they are\n",
      "about half of most of the rates i ' ve found shopping around for\n",
      "insurance in southern california . most people either qualify or have\n",
      "a friend who qualifies who would love to know about it . if you do n't\n",
      "qualify , i have another company that operates in several western\n",
      "states that is cheaper than many companies who claim they have \" the\n",
      "lowest rates available . \" just send $ 2 cash to : pva 1257 n kenmore\n",
      "ave # 2 los angeles , ca 90029 fold it in a piece of paper with your e\n",
      "- mail address and i will rush the information to you right away . if\n",
      "you prefer a hardcopy printout , enclose a self-addressed , stamped\n",
      "envelope . p . s . as a bonus i include two mechanic 's tips that save\n",
      "lots of time on a certain common repair job , and give you a quick and\n",
      "easy way to check the general condition of an engine . i have n't\n",
      "found these in any repair manuals or books before . these are great\n",
      "for home mechanics ! \n",
      "\n",
      "Subject: do want the best and economical hunting vacation of your life\n",
      "?  if you want the best hunting and camping vacation of your life ,\n",
      "come to felton 's hunting camp in wild and wonderful west virginia . $\n",
      "50 . 00 per day pays for your room and three home cooked meals (\n",
      "packed lunch if you want to stay out in the woods at noon ) with cozy\n",
      "accomodations . reserve your space now . following seasons are now\n",
      "being booked for 1998 : buck season - nov . 23 - dec . 5 doe season -\n",
      "to be announced ( please call ) muzzel loader ( deer ) - dec . 14 -\n",
      "dec . 19 archery ( deer ) - oct . 17 - dec . 31 turkey sesson - oct .\n",
      "24 - nov . 14 e - mail us at 110734 . 2622 @ compuserve . com \n",
      "\n"
     ]
    }
   ],
   "source": [
    "\n",
    "is_spam = spam[spam['spam'] == True]\n",
    "not_spam = spam[spam['spam'] == False]\n",
    "spam_messages = is_spam[['message']].values\n",
    "not_spam_messages = not_spam[['message']].values\n",
    "\n",
    "print(\"non spam messages:\")\n",
    "for i, message in enumerate(not_spam_messages):\n",
    "    if i >= 3: \n",
    "        break\n",
    "    message_text = str(message[0])\n",
    "    print(\"\\n\".join(wrap(message_text)), \"\\n\")\n",
    "\n",
    "print(\"spam messages:\")\n",
    "for i, message in enumerate(spam_messages):\n",
    "    if i >= 3: \n",
    "        break\n",
    "    message_text = str(message[0])\n",
    "    print(\"\\n\".join(wrap(message_text)), \"\\n\")"
   ]
  },
  {
   "cell_type": "markdown",
   "id": "a4e793f8-9a9f-4364-b202-56687c0af7c4",
   "metadata": {},
   "source": [
    "### 1.2"
   ]
  },
  {
   "cell_type": "markdown",
   "id": "7639662e-1c9d-4246-a14b-100174ee1a13",
   "metadata": {},
   "source": [
    "#### 1."
   ]
  },
  {
   "cell_type": "code",
   "execution_count": 143,
   "id": "23aaf6d0-ef4e-4163-9e27-e63d32c48cf5",
   "metadata": {},
   "outputs": [
    {
     "name": "stdout",
     "output_type": "stream",
     "text": [
      "Probability                    Variable Name                 \n",
      "------------------------------------------------------------\n",
      "Pr(S = 1)                      pr_spam_1                     \n",
      "Pr(S = 0)                      pr_spam_0                     \n",
      "Pr(w = 1)                      pr_word_1                     \n",
      "Pr(w = 0)                      pr_word_0                     \n",
      "Pr(w = 1|S = 1)                pr_word_1_given_spam          \n",
      "Pr(w = 0|S = 1)                pr_word_0_given_spam          \n",
      "Pr(w = 1|S = 0)                pr_word_1_given_non_spam      \n",
      "Pr(w = 0|S = 0)                pr_word_0_given_non_spam      \n"
     ]
    }
   ],
   "source": [
    "variable_naming_schemes = [\n",
    "    (\"Pr(S = 1)\", \"pr_spam_1\"),\n",
    "    (\"Pr(S = 0)\", \"pr_spam_0\"),\n",
    "    (\"Pr(w = 1)\", \"pr_word_1\"),\n",
    "    (\"Pr(w = 0)\", \"pr_word_0\"),\n",
    "    (\"Pr(w = 1|S = 1)\", \"pr_word_1_given_spam\"),\n",
    "    (\"Pr(w = 0|S = 1)\", \"pr_word_0_given_spam\"),\n",
    "    (\"Pr(w = 1|S = 0)\", \"pr_word_1_given_non_spam\"),\n",
    "    (\"Pr(w = 0|S = 0)\", \"pr_word_0_given_non_spam\"),\n",
    "]\n",
    "\n",
    "print(f\"{'Probability':<30} {'Variable Name':<30}\")\n",
    "print(\"-\" * 60)\n",
    "\n",
    "for prob, var_name in variable_naming_schemes:\n",
    "    print(f\"{prob:<30} {var_name:<30}\")"
   ]
  },
  {
   "cell_type": "markdown",
   "id": "5d89a191-1931-4fd2-a753-611e1e84c6fe",
   "metadata": {},
   "source": [
    "#### 2."
   ]
  },
  {
   "cell_type": "code",
   "execution_count": 144,
   "id": "14ee3422-ba77-40ad-a514-b997acaa514e",
   "metadata": {},
   "outputs": [
    {
     "data": {
      "text/plain": [
       "0       False\n",
       "1       False\n",
       "2       False\n",
       "3       False\n",
       "4       False\n",
       "        ...  \n",
       "2888     True\n",
       "2889     True\n",
       "2890     True\n",
       "2891     True\n",
       "2892     True\n",
       "Name: spam, Length: 2893, dtype: bool"
      ]
     },
     "execution_count": 144,
     "metadata": {},
     "output_type": "execute_result"
    }
   ],
   "source": [
    "y = spam['spam']\n",
    "y"
   ]
  },
  {
   "cell_type": "code",
   "execution_count": 145,
   "id": "483489fd-159f-4e85-8e42-8b86403ceb65",
   "metadata": {},
   "outputs": [
    {
     "name": "stdout",
     "output_type": "stream",
     "text": [
      "The majority class is: not-spam\n"
     ]
    }
   ],
   "source": [
    "def find_majority_class_bool(vector):\n",
    "    return sum(vector) > len(vector) / 2\n",
    "majority_class = find_majority_class_bool(y)\n",
    "majority_class_text = \"not-spam\" if majority_class is False else \"spam\"\n",
    "print(f\"The majority class is: {majority_class_text}\")"
   ]
  },
  {
   "cell_type": "code",
   "execution_count": 146,
   "id": "0518349f-3fc3-44c4-9b94-65ed837fd2c5",
   "metadata": {},
   "outputs": [
    {
     "name": "stdout",
     "output_type": "stream",
     "text": [
      "Confusion Matrix:\n",
      " [[2412    0]\n",
      " [ 481    0]]\n",
      "Accuracy of the naive estimator: 83.37%\n"
     ]
    }
   ],
   "source": [
    "predictions = np.full_like(y, fill_value=majority_class)\n",
    "conf_matrix = confusion_matrix(y, predictions)\n",
    "\n",
    "accuracy_naive = (conf_matrix[0][0] + conf_matrix[1][1] )/ sum(map(sum, conf_matrix))\n",
    "\n",
    "print(\"Confusion Matrix:\\n\", conf_matrix)\n",
    "print(f\"Accuracy of the naive estimator: {accuracy_naive * 100:.2f}%\")"
   ]
  },
  {
   "cell_type": "markdown",
   "id": "7b18840e-dbe6-43ea-8474-7812d90223e0",
   "metadata": {},
   "source": [
    "#### 3."
   ]
  },
  {
   "cell_type": "code",
   "execution_count": 147,
   "id": "53864abb-295e-4c80-982f-7ebb5c194c47",
   "metadata": {},
   "outputs": [
    {
     "data": {
      "text/plain": [
       "0       False\n",
       "1       False\n",
       "2       False\n",
       "3       False\n",
       "4       False\n",
       "        ...  \n",
       "2888    False\n",
       "2889     True\n",
       "2890    False\n",
       "2891     True\n",
       "2892     True\n",
       "Name: message, Length: 2893, dtype: bool"
      ]
     },
     "execution_count": 147,
     "metadata": {},
     "output_type": "execute_result"
    }
   ],
   "source": [
    "x = spam.message.str.lower().str.contains(\"million\")\n",
    "x"
   ]
  },
  {
   "cell_type": "markdown",
   "id": "d6c1a4cf-43cd-4ac4-a298-af6170ba7eaf",
   "metadata": {},
   "source": [
    "#### 4."
   ]
  },
  {
   "cell_type": "code",
   "execution_count": 148,
   "id": "02b761fa-4712-4f00-9a69-9b109379bc17",
   "metadata": {},
   "outputs": [
    {
     "name": "stdout",
     "output_type": "stream",
     "text": [
      "Prior: probability of spam: 16.63%, probability of non-spam: 83.37%\n"
     ]
    }
   ],
   "source": [
    "pr_spam_1 = (spam['spam'] == True).mean()\n",
    "pr_spam_0 = (spam['spam'] == False).mean()\n",
    "print(f\"Prior: probability of spam: {pr_spam_1*100:.2f}%, probability of non-spam: {pr_spam_0*100:.2f}%\")"
   ]
  },
  {
   "cell_type": "markdown",
   "id": "faac35b6-057b-4e2f-bd95-c9343b6b8843",
   "metadata": {},
   "source": [
    "### 1.3\n",
    "#### 1."
   ]
  },
  {
   "cell_type": "code",
   "execution_count": 149,
   "id": "78b31f0c-546f-4971-95f9-2cf8c5d7bae1",
   "metadata": {},
   "outputs": [
    {
     "name": "stdout",
     "output_type": "stream",
     "text": [
      "Normalizer: probability of detecting target word: 4.84% , probability of not detecting target word: 95.16%\n"
     ]
    }
   ],
   "source": [
    "pr_word_1 = x.mean()\n",
    "pr_word_0 = 1 - pr_word_1\n",
    "print(f\"Normalizer: probability of detecting target word: {pr_word_1*100:.2f}% , probability of not detecting target word: {pr_word_0*100:.2f}%\")"
   ]
  },
  {
   "cell_type": "markdown",
   "id": "28c6b4e0-f398-48a5-8565-8f617307816d",
   "metadata": {},
   "source": [
    "#### 2."
   ]
  },
  {
   "cell_type": "code",
   "execution_count": 150,
   "id": "d1e396a8-d1e2-462d-93ef-ea48276b7a58",
   "metadata": {},
   "outputs": [
    {
     "data": {
      "text/html": [
       "<div>\n",
       "<style scoped>\n",
       "    .dataframe tbody tr th:only-of-type {\n",
       "        vertical-align: middle;\n",
       "    }\n",
       "\n",
       "    .dataframe tbody tr th {\n",
       "        vertical-align: top;\n",
       "    }\n",
       "\n",
       "    .dataframe thead th {\n",
       "        text-align: right;\n",
       "    }\n",
       "</style>\n",
       "<table border=\"1\" class=\"dataframe\">\n",
       "  <thead>\n",
       "    <tr style=\"text-align: right;\">\n",
       "      <th></th>\n",
       "      <th>spam</th>\n",
       "      <th>files</th>\n",
       "      <th>message</th>\n",
       "      <th>contains_word_million</th>\n",
       "    </tr>\n",
       "  </thead>\n",
       "  <tbody>\n",
       "    <tr>\n",
       "      <th>0</th>\n",
       "      <td>False</td>\n",
       "      <td>3-1msg1.txt</td>\n",
       "      <td>Subject: re : 2 . 882 s - &gt; np np  &gt; date : su...</td>\n",
       "      <td>False</td>\n",
       "    </tr>\n",
       "    <tr>\n",
       "      <th>1</th>\n",
       "      <td>False</td>\n",
       "      <td>3-1msg2.txt</td>\n",
       "      <td>Subject: s - &gt; np + np  the discussion of s - ...</td>\n",
       "      <td>False</td>\n",
       "    </tr>\n",
       "    <tr>\n",
       "      <th>2</th>\n",
       "      <td>False</td>\n",
       "      <td>3-1msg3.txt</td>\n",
       "      <td>Subject: 2 . 882 s - &gt; np np  . . . for me it ...</td>\n",
       "      <td>False</td>\n",
       "    </tr>\n",
       "  </tbody>\n",
       "</table>\n",
       "</div>"
      ],
      "text/plain": [
       "    spam        files                                            message  \\\n",
       "0  False  3-1msg1.txt  Subject: re : 2 . 882 s - > np np  > date : su...   \n",
       "1  False  3-1msg2.txt  Subject: s - > np + np  the discussion of s - ...   \n",
       "2  False  3-1msg3.txt  Subject: 2 . 882 s - > np np  . . . for me it ...   \n",
       "\n",
       "   contains_word_million  \n",
       "0                  False  \n",
       "1                  False  \n",
       "2                  False  "
      ]
     },
     "execution_count": 150,
     "metadata": {},
     "output_type": "execute_result"
    }
   ],
   "source": [
    "spam_with_x = spam.assign(contains_word_million = x)\n",
    "spam_with_x.head(3)"
   ]
  },
  {
   "cell_type": "code",
   "execution_count": 151,
   "id": "87172372-fcf7-4656-a478-6dcaa883b33b",
   "metadata": {},
   "outputs": [
    {
     "name": "stdout",
     "output_type": "stream",
     "text": [
      "Pr(w = 1|S = 1): 24.12% , Pr(w = 0|S = 1): 75.88%\n",
      "Pr(w = 1|S = 0): 1.00% , Pr(w = 0|S = 0): 99.00%\n"
     ]
    }
   ],
   "source": [
    "pr_word_1_given_spam = spam_with_x[spam_with_x['spam'] == True]['contains_word_million'].mean()\n",
    "pr_word_0_given_spam =  1 - pr_word_1_given_spam\n",
    "pr_word_1_given_non_spam = spam_with_x[spam_with_x['spam'] == False]['contains_word_million'].mean()\n",
    "pr_word_0_given_non_spam = 1 - pr_word_1_given_non_spam\n",
    "print(f\"Pr(w = 1|S = 1): {pr_word_1_given_spam*100:.2f}% , Pr(w = 0|S = 1): {pr_word_0_given_spam*100:.2f}%\")\n",
    "print(f\"Pr(w = 1|S = 0): {pr_word_1_given_non_spam*100:.2f}% , Pr(w = 0|S = 0): {pr_word_0_given_non_spam*100:.2f}%\")"
   ]
  },
  {
   "cell_type": "markdown",
   "id": "ce29f2e3-c389-462a-8818-f26832a29137",
   "metadata": {},
   "source": [
    "#### 3."
   ]
  },
  {
   "cell_type": "code",
   "execution_count": 152,
   "id": "dff07ec5-ad9e-4402-97d9-be1d49e47918",
   "metadata": {},
   "outputs": [
    {
     "name": "stdout",
     "output_type": "stream",
     "text": [
      " Pr(S = 1|w = 1): 82.86% , Pr(S = 1|w = 0): 13.26%\n"
     ]
    }
   ],
   "source": [
    "pr_spam_given_word_1 = pr_word_1_given_spam  * pr_spam_1 / pr_word_1\n",
    "pr_spam_given_word_0 = pr_word_0_given_spam  * pr_spam_1 / pr_word_0\n",
    "print(f\" Pr(S = 1|w = 1): {pr_spam_given_word_1*100:.2f}% , Pr(S = 1|w = 0): {pr_spam_given_word_0*100:.2f}%\")"
   ]
  },
  {
   "cell_type": "code",
   "execution_count": 153,
   "id": "7ab757ab-97d8-48da-9dae-d922a55fa857",
   "metadata": {},
   "outputs": [
    {
     "name": "stdout",
     "output_type": "stream",
     "text": [
      " Pr(S = 0|w = 1): 17.14% , Pr(S = 0|w = 0): 86.74%\n"
     ]
    }
   ],
   "source": [
    "pr_non_spam_given_word_1 = pr_word_1_given_non_spam  * pr_spam_0 / pr_word_1\n",
    "pr_non_spam_given_word_0 = pr_word_0_given_non_spam  * pr_spam_0 / pr_word_0\n",
    "print(f\" Pr(S = 0|w = 1): {pr_non_spam_given_word_1*100:.2f}% , Pr(S = 0|w = 0): {pr_non_spam_given_word_0*100:.2f}%\")"
   ]
  },
  {
   "cell_type": "markdown",
   "id": "ceeb9b27-0d17-4ad9-a772-78af06af2a16",
   "metadata": {},
   "source": [
    "#### 4."
   ]
  },
  {
   "cell_type": "code",
   "execution_count": 154,
   "id": "3f440314-ac6d-48ac-9ae6-341e6d731dcb",
   "metadata": {},
   "outputs": [
    {
     "name": "stdout",
     "output_type": "stream",
     "text": [
      "Pr(S = 1|w = 1) + Pr(S = 0|w = 1) = 1.00\n",
      "Pr(S = 1|w = 0) + Pr(S = 0|w = 0) = 1.00\n"
     ]
    }
   ],
   "source": [
    "print(f\"Pr(S = 1|w = 1) + Pr(S = 0|w = 1) = {pr_spam_given_word_1 + pr_non_spam_given_word_1:.2f}\")\n",
    "print(f\"Pr(S = 1|w = 0) + Pr(S = 0|w = 0) = {pr_spam_given_word_0 + pr_non_spam_given_word_0:.2f}\")"
   ]
  },
  {
   "cell_type": "markdown",
   "id": "a98e7592-30c4-4571-9d9c-196886e1bfb4",
   "metadata": {},
   "source": [
    "The outcomes of a given occurrence that are exhaustive and mutually exclusive are represented by probabilities that add up to one. In this situation, Pr(S = 1|w = 1) and Pr(S = 0|w = 1) must add up to one since an email containing the term \"million\" can only be considered spam or not. Pr(S = 1|w = 0) and Pr(S = 0|w = 0) are equivalent. Probabilities like Pr(w = 1|S = 1) and Pr(w = 1|S = 0), on the other hand, do not have to add up to one since they do not represent all possible outcomes for a particular event. For example, an email including the word \"million\" may be considered spam, but so might any other word."
   ]
  },
  {
   "cell_type": "markdown",
   "id": "150c0fd0-e81d-49a3-8772-f071d2a60fa7",
   "metadata": {},
   "source": [
    "### 1.4\n",
    "#### 1"
   ]
  },
  {
   "cell_type": "code",
   "execution_count": 155,
   "id": "54d078cc-194a-49f4-b29e-e13d54b00668",
   "metadata": {},
   "outputs": [
    {
     "data": {
      "text/plain": [
       "0       False\n",
       "1       False\n",
       "2       False\n",
       "3       False\n",
       "4       False\n",
       "        ...  \n",
       "2888    False\n",
       "2889     True\n",
       "2890    False\n",
       "2891     True\n",
       "2892     True\n",
       "Length: 2893, dtype: bool"
      ]
     },
     "execution_count": 155,
     "metadata": {},
     "output_type": "execute_result"
    }
   ],
   "source": [
    "predictions = pd.Series(index=spam_with_x.index, dtype='bool')\n",
    "for index, row in spam_with_x.iterrows():\n",
    "    if row['contains_word_million'] == True:\n",
    "        predictions.at[index] = pr_spam_given_word_1 > 0.5\n",
    "    else:\n",
    "        predictions.at[index] = pr_spam_given_word_0 > 0.5\n",
    "predictions"
   ]
  },
  {
   "cell_type": "markdown",
   "id": "5c0721c7-6dcb-4498-b57a-3d5fb2bc492a",
   "metadata": {},
   "source": [
    "#### 2."
   ]
  },
  {
   "cell_type": "code",
   "execution_count": 156,
   "id": "2750d9eb-b0d0-4ccf-8879-6a7291f4a39f",
   "metadata": {},
   "outputs": [
    {
     "name": "stdout",
     "output_type": "stream",
     "text": [
      "Confusion Matrix:\n",
      " [[2388   24]\n",
      " [ 365  116]]\n",
      "Accuracy of the bayes theorem estimator: 86.55%\n",
      "Precision of the bayes theorem estimator: 0.83\n",
      "Recall of the bayes theorem estimator: 0.24\n"
     ]
    }
   ],
   "source": [
    "conf_matrix = confusion_matrix(y, predictions)\n",
    "\n",
    "TP = conf_matrix[1][1]\n",
    "TN = conf_matrix[0][0]\n",
    "FP = conf_matrix[0][1]\n",
    "FN = conf_matrix[1][0]\n",
    "\n",
    "accuracy_bays_theorem = (TN + TP )/ sum(map(sum, conf_matrix))\n",
    "precision_bays_theorem = TP / (TP + FP)\n",
    "recall_bays_theorem = TP / (TP + FN)\n",
    "\n",
    "print(\"Confusion Matrix:\\n\", conf_matrix)\n",
    "print(f\"Accuracy of the bayes theorem estimator: {accuracy_bays_theorem * 100:.2f}%\")\n",
    "print(f\"Precision of the bayes theorem estimator: {precision_bays_theorem :.2f}\")\n",
    "print(f\"Recall of the bayes theorem estimator: {recall_bays_theorem:.2f}\")"
   ]
  },
  {
   "cell_type": "markdown",
   "id": "a8cf26d2-b57f-4d31-a831-ad6ea55d68c2",
   "metadata": {},
   "source": [
    "#### 3.\n",
    "In the steps outlined above, the calculation of Bayes' theorem probabilities and the setting of a 0.5 threshold constitute the model's training. This is because the definition of a trained model is something from which we can make predictions. Our prediction was derived from the probabilities and the comparison between the threshold and the binary choice of whether the word is found or not, as described in the mentioned steps."
   ]
  },
  {
   "cell_type": "markdown",
   "id": "fb614de3-cead-4399-973c-fe09d48e0fdd",
   "metadata": {},
   "source": [
    "### 1.5\n",
    "#### 1."
   ]
  },
  {
   "cell_type": "code",
   "execution_count": 157,
   "id": "896e57be-cfca-4c7f-bf76-c7b3fe3ba10a",
   "metadata": {},
   "outputs": [],
   "source": [
    "def bays_theorem_for_word(word):\n",
    "    print(f\"target word is {word}\")\n",
    "    spam = pd.read_csv(\"../data/lingspam-emails.csv.bz2\",\n",
    "                 \tsep = \"\\t\")\n",
    "    x = spam.message.str.lower().str.contains(word)\n",
    "    y = spam['spam']\n",
    "    pr_spam_1 = (spam['spam'] == True).mean()\n",
    "    pr_spam_0 = (spam['spam'] == False).mean()\n",
    "    print(f\"Prior: probability of spam: {pr_spam_1*100:.2f}%, probability of non-spam: {pr_spam_0*100:.2f}%\")\n",
    "    pr_word_1 = x.mean()\n",
    "    pr_word_0 = 1 - pr_word_1\n",
    "    print(f\"Normalizer: probability of detecting target word: {pr_word_1*100:.2f}% , probability of not detecting target word: {pr_word_0*100:.2f}%\")\n",
    "    spam_with_x = spam.assign(contains_target_word = x)\n",
    "    pr_word_1_given_spam = spam_with_x[spam_with_x['spam'] == True]['contains_target_word'].mean()\n",
    "    pr_word_0_given_spam =  1 - pr_word_1_given_spam\n",
    "    pr_word_1_given_non_spam = spam_with_x[spam_with_x['spam'] == False]['contains_target_word'].mean()\n",
    "    pr_word_0_given_non_spam = 1 - pr_word_1_given_non_spam\n",
    "    print(f\"Pr(w = 1|S = 1): {pr_word_1_given_spam*100:.2f}% , Pr(w = 0|S = 1): {pr_word_0_given_spam*100:.2f}%\")\n",
    "    print(f\"Pr(w = 1|S = 0): {pr_word_1_given_non_spam*100:.2f}% , Pr(w = 0|S = 0): {pr_word_0_given_non_spam*100:.2f}%\")\n",
    "    \n",
    "    pr_spam_given_word_1 = pr_word_1_given_spam  * pr_spam_1 / pr_word_1\n",
    "    pr_spam_given_word_0 = pr_word_0_given_spam  * pr_spam_1 / pr_word_0\n",
    "    print(f\" Pr(S = 1|w = 1): {pr_spam_given_word_1*100:.2f}% , Pr(S = 1|w = 0): {pr_spam_given_word_0*100:.2f}%\")\n",
    "    \n",
    "    pr_non_spam_given_word_1 = pr_word_1_given_non_spam  * pr_spam_0 / pr_word_1\n",
    "    pr_non_spam_given_word_0 = pr_word_0_given_non_spam  * pr_spam_0 / pr_word_0\n",
    "    print(f\" Pr(S = 0|w = 1): {pr_non_spam_given_word_1*100:.2f}% , Pr(S = 0|w = 0): {pr_non_spam_given_word_0*100:.2f}%\")\n",
    "    predictions = pd.Series(index=spam_with_x.index, dtype='bool')\n",
    "    for index, row in spam_with_x.iterrows():\n",
    "        if row['contains_target_word'] == True:\n",
    "            predictions.at[index] = pr_spam_given_word_1 > 0.5\n",
    "        else:\n",
    "            predictions.at[index] = pr_spam_given_word_0 > 0.5\n",
    "    from sklearn.metrics import confusion_matrix, accuracy_score\n",
    "    conf_matrix = confusion_matrix(y, predictions)\n",
    "    print(\"Confusion Matrix:\\n\", conf_matrix)\n",
    "    \n",
    "    TP = conf_matrix[1][1]\n",
    "    TN = conf_matrix[0][0]\n",
    "    FP = conf_matrix[0][1]\n",
    "    FN = conf_matrix[1][0]\n",
    "    accuracy_bays_theorem = (TN + TP )/ (TP + TN + FP + FN)#  sum(map(sum, conf_matrix))\n",
    "    print(f\"Accuracy of the bayes theorem estimator for word '{word}': {accuracy_bays_theorem * 100:.2f}%\")\n",
    "\n",
    "    precision_bays_theorem = TP / (TP + FP)\n",
    "    recall_bays_theorem = TP / (TP + FN)\n",
    "    print(f\"Precision of the bayes theorem estimator for word '{word}': {precision_bays_theorem :.2f}\")\n",
    "    print(f\"Recall of the bayes theorem estimator for word '{word}': {recall_bays_theorem:.2f}\")\n",
    "   \n",
    "        \n",
    "   "
   ]
  },
  {
   "cell_type": "code",
   "execution_count": 158,
   "id": "06a34ea2-e5d3-4a86-b09c-1141b91641e3",
   "metadata": {},
   "outputs": [
    {
     "name": "stdout",
     "output_type": "stream",
     "text": [
      "target word is conference\n",
      "Prior: probability of spam: 16.63%, probability of non-spam: 83.37%\n",
      "Normalizer: probability of detecting target word: 23.37% , probability of not detecting target word: 76.63%\n",
      "Pr(w = 1|S = 1): 1.04% , Pr(w = 0|S = 1): 98.96%\n",
      "Pr(w = 1|S = 0): 27.82% , Pr(w = 0|S = 0): 72.18%\n",
      " Pr(S = 1|w = 1): 0.74% , Pr(S = 1|w = 0): 21.47%\n",
      " Pr(S = 0|w = 1): 99.26% , Pr(S = 0|w = 0): 78.53%\n",
      "Confusion Matrix:\n",
      " [[2412    0]\n",
      " [ 481    0]]\n",
      "Accuracy of the bayes theorem estimator for word 'conference': 83.37%\n",
      "Precision of the bayes theorem estimator for word 'conference': nan\n",
      "Recall of the bayes theorem estimator for word 'conference': 0.00\n"
     ]
    },
    {
     "name": "stderr",
     "output_type": "stream",
     "text": [
      "/tmp/ipykernel_129/1939851048.py:45: RuntimeWarning: invalid value encountered in scalar divide\n",
      "  precision_bays_theorem = TP / (TP + FP)\n"
     ]
    }
   ],
   "source": [
    "bays_theorem_for_word(\"conference\")"
   ]
  },
  {
   "cell_type": "code",
   "execution_count": 159,
   "id": "37f8c487-ccf8-4f58-a11a-2fa0c10bcf1f",
   "metadata": {},
   "outputs": [
    {
     "name": "stdout",
     "output_type": "stream",
     "text": [
      "target word is the\n",
      "Prior: probability of spam: 16.63%, probability of non-spam: 83.37%\n",
      "Normalizer: probability of detecting target word: 97.27% , probability of not detecting target word: 2.73%\n",
      "Pr(w = 1|S = 1): 93.56% , Pr(w = 0|S = 1): 6.44%\n",
      "Pr(w = 1|S = 0): 98.01% , Pr(w = 0|S = 0): 1.99%\n",
      " Pr(S = 1|w = 1): 15.99% , Pr(S = 1|w = 0): 39.24%\n",
      " Pr(S = 0|w = 1): 84.01% , Pr(S = 0|w = 0): 60.76%\n",
      "Confusion Matrix:\n",
      " [[2412    0]\n",
      " [ 481    0]]\n",
      "Accuracy of the bayes theorem estimator for word 'the': 83.37%\n",
      "Precision of the bayes theorem estimator for word 'the': nan\n",
      "Recall of the bayes theorem estimator for word 'the': 0.00\n"
     ]
    },
    {
     "name": "stderr",
     "output_type": "stream",
     "text": [
      "/tmp/ipykernel_129/1939851048.py:45: RuntimeWarning: invalid value encountered in scalar divide\n",
      "  precision_bays_theorem = TP / (TP + FP)\n"
     ]
    }
   ],
   "source": [
    "bays_theorem_for_word(\"the\")"
   ]
  },
  {
   "cell_type": "code",
   "execution_count": 160,
   "id": "01689c71-a733-4943-992a-5a87baeb3644",
   "metadata": {},
   "outputs": [
    {
     "name": "stdout",
     "output_type": "stream",
     "text": [
      "target word is dollar\n",
      "Prior: probability of spam: 16.63%, probability of non-spam: 83.37%\n",
      "Normalizer: probability of detecting target word: 4.29% , probability of not detecting target word: 95.71%\n",
      "Pr(w = 1|S = 1): 19.96% , Pr(w = 0|S = 1): 80.04%\n",
      "Pr(w = 1|S = 0): 1.16% , Pr(w = 0|S = 0): 98.84%\n",
      " Pr(S = 1|w = 1): 77.42% , Pr(S = 1|w = 0): 13.90%\n",
      " Pr(S = 0|w = 1): 22.58% , Pr(S = 0|w = 0): 86.10%\n",
      "Confusion Matrix:\n",
      " [[2384   28]\n",
      " [ 385   96]]\n",
      "Accuracy of the bayes theorem estimator for word 'dollar': 85.72%\n",
      "Precision of the bayes theorem estimator for word 'dollar': 0.77\n",
      "Recall of the bayes theorem estimator for word 'dollar': 0.20\n"
     ]
    }
   ],
   "source": [
    "bays_theorem_for_word(\"dollar\")"
   ]
  },
  {
   "cell_type": "code",
   "execution_count": 161,
   "id": "11fca70f-113f-458a-9211-573cc2025e65",
   "metadata": {},
   "outputs": [
    {
     "name": "stdout",
     "output_type": "stream",
     "text": [
      "target word is lottery\n",
      "Prior: probability of spam: 16.63%, probability of non-spam: 83.37%\n",
      "Normalizer: probability of detecting target word: 0.83% , probability of not detecting target word: 99.17%\n",
      "Pr(w = 1|S = 1): 4.99% , Pr(w = 0|S = 1): 95.01%\n",
      "Pr(w = 1|S = 0): 0.00% , Pr(w = 0|S = 0): 100.00%\n",
      " Pr(S = 1|w = 1): 100.00% , Pr(S = 1|w = 0): 15.93%\n",
      " Pr(S = 0|w = 1): 0.00% , Pr(S = 0|w = 0): 84.07%\n",
      "Confusion Matrix:\n",
      " [[2412    0]\n",
      " [ 457   24]]\n",
      "Accuracy of the bayes theorem estimator for word 'lottery': 84.20%\n",
      "Precision of the bayes theorem estimator for word 'lottery': 1.00\n",
      "Recall of the bayes theorem estimator for word 'lottery': 0.05\n"
     ]
    }
   ],
   "source": [
    "bays_theorem_for_word(\"lottery\")"
   ]
  },
  {
   "cell_type": "markdown",
   "id": "5701df58-81ee-43de-8d96-6b9928f9b8dd",
   "metadata": {},
   "source": [
    "#### 2.\n",
    "the overall performance is good. All four accuracy for the words \"conference\", \"the\", \"dollar\" and \"lottery\" is between 83% to 85%. The recall for \"confernce” and \"the\" is 0, \"lottery\" is 0.05 and \"dollar\" is 0.2. The precision for \"conference\" and \"the\" is 0, \"dollar\" is 0.77 and \"lottery\" is 1.0."
   ]
  },
  {
   "cell_type": "markdown",
   "id": "18e8c3dc-312a-48b9-adc5-8ae179cbcf26",
   "metadata": {},
   "source": [
    "#### 3.\n",
    " A low recall in this case means the the model can't relaly correctly identify relevant data points. This is probabily becuase words like \"conference\" and \"the\" is not a reliable indicator of if the email is spam or not, so we use them to identify spam emails, we will miss a lot of emails. From another perspective, the word \"lottery\" is a reliable indicator for spam, but it appears in too little emails, which makes it not representive of a typical spam email in the data set. The closest we get is the word \"dollars\", which has a relativly good appearance, thus roducing the highest recall out all the words we tested."
   ]
  },
  {
   "cell_type": "markdown",
   "id": "08e24e2f-32ef-4b08-81e8-06ef9a2d1aa6",
   "metadata": {},
   "source": [
    "#### 4.\n",
    "a) \"million\" improves accuarcy because it is frequently linked to contents of spam emails.\n",
    "\n",
    "b) \"conference\" does not work becuase it is used in many non-spam emails, such as reputable academic emails, so it does not really work in this case.\n",
    "\n",
    "c) The word \"the\" is not working because it is a word almost if not all email uses. So the model can't really predict anything based on that word. The confusion matrix in this case will show all negative, this is becuase it is reflecting the value of the prior (probability of non-spam). The prior in here 83.37%. This is becuase both the normalizer and the PR(W|S) rendered useless because of how common the word is.\n",
    "\n",
    "d) Both \"dollar\" and \"lottery\" works because it is often used in the context of \"spam emails\""
   ]
  },
  {
   "cell_type": "markdown",
   "id": "22354b26-e330-4c2d-aa4d-c012de39e6a5",
   "metadata": {},
   "source": [
    "## 2.\n",
    "### 2.1\n",
    "#### 1."
   ]
  },
  {
   "cell_type": "code",
   "execution_count": 162,
   "id": "13473b18-026b-4f5c-b192-888a394fa1ef",
   "metadata": {},
   "outputs": [],
   "source": [
    "vectorizer = CountVectorizer(binary=True) # only 1/0 for the word presence!\n",
    "# define vectorizer\n",
    "X = vectorizer.fit_transform(spam.message)\n",
    "# vectorize your data. Note: this creates a sparse matrix,\n",
    "# use .toarray() if you run into trouble\n",
    "vocabulary = vectorizer.get_feature_names_out()\n",
    "# in case you want to see what are the actual words"
   ]
  },
  {
   "cell_type": "code",
   "execution_count": 163,
   "id": "355ee083-1bee-423d-b978-954a87f3f877",
   "metadata": {},
   "outputs": [
    {
     "name": "stdout",
     "output_type": "stream",
     "text": [
      "There is 2893 document with 60925 tokens\n"
     ]
    }
   ],
   "source": [
    "print(f\"There is {X.shape[0]} document with {X.shape[1]} tokens\")"
   ]
  },
  {
   "cell_type": "markdown",
   "id": "1c3f8f81-5454-42b1-aa08-9d74f6ca584c",
   "metadata": {},
   "source": [
    "#### 2."
   ]
  },
  {
   "cell_type": "code",
   "execution_count": 164,
   "id": "a99eb64f-8b0d-423b-b279-b92e922b3118",
   "metadata": {},
   "outputs": [
    {
     "data": {
      "text/plain": [
       "array([[0, 0, 0, 0, 0],\n",
       "       [0, 1, 0, 1, 0],\n",
       "       [0, 0, 0, 0, 0]])"
      ]
     },
     "execution_count": 164,
     "metadata": {},
     "output_type": "execute_result"
    }
   ],
   "source": [
    "X[982:985, 40041:40046].toarray()"
   ]
  },
  {
   "cell_type": "code",
   "execution_count": 165,
   "id": "2b64fcb3-597b-42b3-9ede-971b35e950c5",
   "metadata": {},
   "outputs": [
    {
     "data": {
      "text/html": [
       "<div>\n",
       "<style scoped>\n",
       "    .dataframe tbody tr th:only-of-type {\n",
       "        vertical-align: middle;\n",
       "    }\n",
       "\n",
       "    .dataframe tbody tr th {\n",
       "        vertical-align: top;\n",
       "    }\n",
       "\n",
       "    .dataframe thead th {\n",
       "        text-align: right;\n",
       "    }\n",
       "</style>\n",
       "<table border=\"1\" class=\"dataframe\">\n",
       "  <thead>\n",
       "    <tr style=\"text-align: right;\">\n",
       "      <th></th>\n",
       "      <th>nooteboom</th>\n",
       "      <th>nootka</th>\n",
       "      <th>nope</th>\n",
       "      <th>nor</th>\n",
       "      <th>nora</th>\n",
       "    </tr>\n",
       "  </thead>\n",
       "  <tbody>\n",
       "    <tr>\n",
       "      <th>982</th>\n",
       "      <td>0</td>\n",
       "      <td>0</td>\n",
       "      <td>0</td>\n",
       "      <td>0</td>\n",
       "      <td>0</td>\n",
       "    </tr>\n",
       "    <tr>\n",
       "      <th>983</th>\n",
       "      <td>0</td>\n",
       "      <td>1</td>\n",
       "      <td>0</td>\n",
       "      <td>1</td>\n",
       "      <td>0</td>\n",
       "    </tr>\n",
       "    <tr>\n",
       "      <th>984</th>\n",
       "      <td>0</td>\n",
       "      <td>0</td>\n",
       "      <td>0</td>\n",
       "      <td>0</td>\n",
       "      <td>0</td>\n",
       "    </tr>\n",
       "  </tbody>\n",
       "</table>\n",
       "</div>"
      ],
      "text/plain": [
       "     nooteboom  nootka  nope  nor  nora\n",
       "982          0       0     0    0     0\n",
       "983          0       1     0    1     0\n",
       "984          0       0     0    0     0"
      ]
     },
     "execution_count": 165,
     "metadata": {},
     "output_type": "execute_result"
    }
   ],
   "source": [
    "dtm = pd.DataFrame(X.toarray(),\n",
    "        \tcolumns=vocabulary)\n",
    "excerpt = dtm.iloc[982:985, 40041:40046]\n",
    "excerpt"
   ]
  },
  {
   "cell_type": "markdown",
   "id": "ec21199e-e405-4304-97f1-8559d03cb3d9",
   "metadata": {},
   "source": [
    "a) The rows shows three emails, which is the 982th, the 982th, and the 984th.\n",
    "\n",
    "b) The words are nooteboom,\tnootka,\tnope,\tnor, nora\n",
    "\n",
    "c) The 1s in the middle of the table means that this document contains this word\n",
    "\n",
    "d) The zeros means that this document does not contains this word"
   ]
  },
  {
   "cell_type": "markdown",
   "id": "93f12d77-45db-4bdb-84f8-2b7167bffdfc",
   "metadata": {},
   "source": [
    "#### 3."
   ]
  },
  {
   "cell_type": "code",
   "execution_count": 166,
   "id": "112749a4-a60b-4c7f-8935-c01ad32e9493",
   "metadata": {},
   "outputs": [],
   "source": [
    "Xt, Xv, yt, yv = train_test_split(X, y, test_size=0.2)"
   ]
  },
  {
   "cell_type": "markdown",
   "id": "d82225a4-6d7c-4cd5-891e-88759fe13d5f",
   "metadata": {},
   "source": [
    "#### 4."
   ]
  },
  {
   "cell_type": "code",
   "execution_count": 167,
   "id": "75e6e3a3-3e0b-4ae4-a8fd-e5b6e44f3c04",
   "metadata": {},
   "outputs": [
    {
     "name": "stdout",
     "output_type": "stream",
     "text": [
      "Probability                    Variable Name                 \n",
      "------------------------------------------------------------\n",
      "log Pr(W = 1)                  log_pr_word_1                 \n",
      "ℓ(S = 1|W)                     likelihood_pr_spam_given_word_1\n"
     ]
    }
   ],
   "source": [
    "variable_naming_schemes = [\n",
    "    (\"log Pr(W = 1)\", \"log_pr_word_1\"),\n",
    "    (\"ℓ(S = 1|W)\", \"likelihood_pr_spam_given_word_1\"),\n",
    "]\n",
    "\n",
    "print(f\"{'Probability':<30} {'Variable Name':<30}\")\n",
    "print(\"-\" * 60)\n",
    "\n",
    "for prob, var_name in variable_naming_schemes:\n",
    "    print(f\"{prob:<30} {var_name:<30}\")"
   ]
  },
  {
   "cell_type": "markdown",
   "id": "059f3565-b725-4d6e-a705-56ef3b73f92d",
   "metadata": {},
   "source": [
    "The reason why we named the values like this is to ensure maximum clarity and readability"
   ]
  },
  {
   "cell_type": "markdown",
   "id": "1cba4f7e-c73a-4198-bb2a-5ed072f321e5",
   "metadata": {},
   "source": [
    "### 2.2\n",
    "#### 1."
   ]
  },
  {
   "cell_type": "code",
   "execution_count": 168,
   "id": "6e22e9ab-e27c-4a6c-a7b3-00ccb841589d",
   "metadata": {},
   "outputs": [
    {
     "data": {
      "text/plain": [
       "-1.8305308451461868"
      ]
     },
     "execution_count": 168,
     "metadata": {},
     "output_type": "execute_result"
    }
   ],
   "source": [
    "pr_spam_1 = yt.mean()\n",
    "pr_spam_0 = 1 - pr_spam_1\n",
    "log_pr_spam_1 = np.log(pr_spam_1)\n",
    "log_pr_spam_1"
   ]
  },
  {
   "cell_type": "code",
   "execution_count": 169,
   "id": "a7e0fb9c-3250-4edb-99d1-dd04ef4f89ad",
   "metadata": {},
   "outputs": [
    {
     "data": {
      "text/plain": [
       "-0.17474445837618183"
      ]
     },
     "execution_count": 169,
     "metadata": {},
     "output_type": "execute_result"
    }
   ],
   "source": [
    "log_pr_spam_0 = np.log(pr_spam_0)\n",
    "log_pr_spam_0"
   ]
  },
  {
   "cell_type": "markdown",
   "id": "05c32e30-7a8d-4fd4-ba07-36a57be7d342",
   "metadata": {},
   "source": [
    "#### 2."
   ]
  },
  {
   "cell_type": "code",
   "execution_count": 170,
   "id": "c8066615-2d50-4afa-bf4c-d72fd71022f1",
   "metadata": {},
   "outputs": [],
   "source": [
    "num_spam = np.sum(yt == True)\n",
    "num_non_spam = np.sum(yt == False)"
   ]
  },
  {
   "cell_type": "code",
   "execution_count": 171,
   "id": "bed04fd7-b916-4afb-83dd-5132b9288618",
   "metadata": {},
   "outputs": [
    {
     "data": {
      "text/plain": [
       "matrix([[325, 104,   1, ...,   0,   0,   1]])"
      ]
     },
     "execution_count": 171,
     "metadata": {},
     "output_type": "execute_result"
    }
   ],
   "source": [
    "X_spam = Xt[yt == True, :]\n",
    "X_non_spam = Xt[yt == False, :]\n",
    "word_counts_spam = np.sum(X_spam, axis=0)\n",
    "word_counts_non_spam = np.sum(X_non_spam, axis=0)\n",
    "word_counts_non_spam"
   ]
  },
  {
   "cell_type": "code",
   "execution_count": 172,
   "id": "92456b2f-127b-4cdb-90c9-5138325f3479",
   "metadata": {},
   "outputs": [
    {
     "name": "stderr",
     "output_type": "stream",
     "text": [
      "/tmp/ipykernel_129/678780346.py:4: RuntimeWarning: divide by zero encountered in log\n",
      "  log_Pr_word_1_spam_1 = np.log(Pr_word_1_spam_1)\n",
      "/tmp/ipykernel_129/678780346.py:5: RuntimeWarning: divide by zero encountered in log\n",
      "  log_Pr_word_1_spam_0 = np.log(Pr_word_1_spam_0)\n"
     ]
    },
    {
     "data": {
      "text/plain": [
       "matrix([[-1.14551744, -1.15402813, -5.91620206, ...,        -inf,\n",
       "         -5.91620206,        -inf]])"
      ]
     },
     "execution_count": 172,
     "metadata": {},
     "output_type": "execute_result"
    }
   ],
   "source": [
    "Pr_word_1_spam_1 = word_counts_spam / num_spam\n",
    "Pr_word_1_spam_0 = word_counts_non_spam / num_non_spam\n",
    "\n",
    "log_Pr_word_1_spam_1 = np.log(Pr_word_1_spam_1)\n",
    "log_Pr_word_1_spam_0 = np.log(Pr_word_1_spam_0)\n",
    "log_Pr_word_1_spam_1"
   ]
  },
  {
   "cell_type": "markdown",
   "id": "979b6a33-f3f2-42e9-948a-6e064c378fdc",
   "metadata": {},
   "source": [
    "#### 4."
   ]
  },
  {
   "cell_type": "code",
   "execution_count": 173,
   "id": "5b39ee1d-cc1d-4104-a5ff-55e8260dc3fc",
   "metadata": {},
   "outputs": [
    {
     "name": "stdout",
     "output_type": "stream",
     "text": [
      "Pr(W = 1|S = 0)'s have 1 rows, 60925 columns\n",
      "Pr(W = 1|S = 1)'s have 1 rows, 60925 columns\n",
      "They are the same becuase they all each represent the log of probability of the word given a condition of spam of non-spam, so they will match the number of words fond in the dataset\n"
     ]
    }
   ],
   "source": [
    "print(f\"Pr(W = 1|S = 0)'s have {log_Pr_word_1_spam_0.shape[0]} rows, {log_Pr_word_1_spam_0.shape[1]} columns\")\n",
    "print(f\"Pr(W = 1|S = 1)'s have {log_Pr_word_1_spam_1.shape[0]} rows, {log_Pr_word_1_spam_1.shape[1]} columns\")\n",
    "print(\"They are the same becuase they all each represent the log of probability of the word given a condition of spam of non-spam, so they will match the number of words fond in the dataset\")"
   ]
  },
  {
   "cell_type": "markdown",
   "id": "f071c874-630a-4a1b-951c-d85666c7c319",
   "metadata": {},
   "source": [
    "### 2.3\n",
    "#### 1."
   ]
  },
  {
   "cell_type": "code",
   "execution_count": 174,
   "id": "9e2e8391-b923-491b-9dde-2c2c22960fd7",
   "metadata": {},
   "outputs": [],
   "source": [
    "log_Pr_word_1_spam_1 = log_Pr_word_1_spam_1.reshape(-1, 1)\n",
    "log_Pr_word_1_spam_0 = log_Pr_word_1_spam_0.reshape(-1, 1)"
   ]
  },
  {
   "cell_type": "code",
   "execution_count": 175,
   "id": "8d65ef33-897a-4189-8181-e4bf42994240",
   "metadata": {},
   "outputs": [],
   "source": [
    "likelihood_pr_spam_given_word_1 = Xv @ log_Pr_word_1_spam_1 + log_pr_spam_1\n",
    "likelihood_pr_spam_given_word_0 = Xv @ log_Pr_word_1_spam_0 + log_pr_spam_0"
   ]
  },
  {
   "cell_type": "markdown",
   "id": "f5026398-74c6-431f-b7b8-b286a649fbd9",
   "metadata": {},
   "source": [
    "#### 2."
   ]
  },
  {
   "cell_type": "code",
   "execution_count": 176,
   "id": "cd24e467-e78d-41d0-b8ae-e583dcce1ca0",
   "metadata": {},
   "outputs": [
    {
     "name": "stdout",
     "output_type": "stream",
     "text": [
      "I got 579 log-likelihoods, this is because it is just the number of rows found in the validation dataset, which is also 579\n"
     ]
    }
   ],
   "source": [
    "print(f\"I got {likelihood_pr_spam_given_word_1.shape[0]} log-likelihoods, this is because it is just the number of rows found in the validation dataset, which is also {Xv.shape[0]}\")"
   ]
  },
  {
   "cell_type": "markdown",
   "id": "78d94e0e-0c1c-4bff-aa13-f29df85c7b32",
   "metadata": {},
   "source": [
    "#### 3."
   ]
  },
  {
   "cell_type": "code",
   "execution_count": 177,
   "id": "36cf382a-e4ab-43ef-9ef9-133c69c91212",
   "metadata": {},
   "outputs": [],
   "source": [
    "predictions = np.where(likelihood_pr_spam_given_word_1 > likelihood_pr_spam_given_word_0, True, False)"
   ]
  },
  {
   "cell_type": "markdown",
   "id": "e93895a5-68ad-42b9-b60a-bcf8e75b09b2",
   "metadata": {},
   "source": [
    "#### 4."
   ]
  },
  {
   "cell_type": "code",
   "execution_count": 178,
   "id": "ba2f5b4d-8fec-44e6-a795-cead246ef789",
   "metadata": {},
   "outputs": [
    {
     "name": "stdout",
     "output_type": "stream",
     "text": [
      "Confusion Matrix for naive bayes:\n",
      " [[469   0]\n",
      " [101   9]]\n",
      "Accuracy score for naive bayes: 82.56%\n"
     ]
    }
   ],
   "source": [
    "naive_bay_conf_matrix = confusion_matrix(yv, predictions)\n",
    "naive_bayes_accuracy = accuracy_score(yv, predictions)\n",
    "print(\"Confusion Matrix for naive bayes:\\n\", naive_bay_conf_matrix)\n",
    "print(f\"Accuracy score for naive bayes: {naive_bayes_accuracy*100:.2f}%\")"
   ]
  },
  {
   "cell_type": "markdown",
   "id": "4d6901a2-96cb-4c3a-993f-bda19fd3da65",
   "metadata": {},
   "source": [
    "#### 5.\n",
    "\n",
    "This is because the likelihood metrix contains a lot of infinities. These infinities are there becuase of the many 0s we get from the calculated the probabilities vectors in Pr_word_1_spam_0 and Pr_word_1_spam_1. These infinities don't actually tell the model any useful information, thus disrupting its proformance and lower the its accuracy."
   ]
  },
  {
   "cell_type": "markdown",
   "id": "9535058f-bab6-4fdd-9c3f-0f20a1c214f1",
   "metadata": {},
   "source": [
    "### 2.4\n",
    "#### 1."
   ]
  },
  {
   "cell_type": "code",
   "execution_count": 179,
   "id": "259999f3-895b-44d1-aef9-65ee7298b822",
   "metadata": {},
   "outputs": [],
   "source": [
    "def fit_NB(Xt, yt, Xv, yv, alpha):\n",
    "    num_spam = np.sum(yt == True)\n",
    "    num_non_spam = np.sum(yt == False)\n",
    "\n",
    "    X_spam = Xt[yt == True, :]\n",
    "    X_non_spam = Xt[yt == False, :]\n",
    "    word_counts_spam = np.sum(X_spam, axis=0)\n",
    "    word_counts_non_spam = np.sum(X_non_spam, axis=0)\n",
    "\n",
    "    Pr_word_1_spam_1 = word_counts_spam / num_spam\n",
    "    Pr_word_1_spam_0 = word_counts_non_spam / num_non_spam\n",
    "\n",
    "    log_Pr_word_1_spam_1 = np.log(Pr_word_1_spam_1)\n",
    "    log_Pr_word_1_spam_0 = np.log(Pr_word_1_spam_0)\n",
    "\n",
    "    log_Pr_word_1_spam_1 = log_Pr_word_1_spam_1.reshape(-1, 1)\n",
    "    log_Pr_word_1_spam_0 = log_Pr_word_1_spam_0.reshape(-1, 1)\n",
    "\n",
    "    likelihood_pr_spam_given_word_1 = Xv @ log_Pr_word_1_spam_1 + log_pr_spam_1\n",
    "    likelihood_pr_spam_given_word_0 = Xv @ log_Pr_word_1_spam_0 + log_pr_spam_0\n",
    "    return (likelihood_pr_spam_given_word_1, likelihood_pr_spam_given_word_0)\n",
    "\n",
    "def predict_NB(likelihood_pr_spam_given_word_1, likelihood_pr_spam_given_word_0):\n",
    "    predictions = np.where(likelihood_pr_spam_given_word_1 > likelihood_pr_spam_given_word_0, True, False)"
   ]
  },
  {
   "cell_type": "markdown",
   "id": "97381489-dd38-4631-9477-ffa39b9b85d2",
   "metadata": {},
   "source": [
    "#### 2."
   ]
  },
  {
   "cell_type": "code",
   "execution_count": 180,
   "id": "45005203-102d-467f-b723-39a3616c238d",
   "metadata": {},
   "outputs": [],
   "source": [
    "def fit_NB_with_smoothing(Xt, yt, Xv, yv, alpha):\n",
    "    num_spam = np.sum(yt == True)\n",
    "    num_non_spam = np.sum(yt == False)\n",
    "\n",
    "    X_spam = Xt[yt == True, :]\n",
    "    X_non_spam = Xt[yt == False, :]\n",
    "    word_counts_spam = np.sum(X_spam, axis=0) + alpha #<- added alpha here\n",
    "    word_counts_non_spam = np.sum(X_non_spam, axis=0) + alpha #<- added alpha here\n",
    "\n",
    "    Pr_word_1_spam_1 = word_counts_spam / (num_spam + 2 * alpha) #<- added alpha here\n",
    "    Pr_word_1_spam_0 = word_counts_non_spam / (num_non_spam + 2 * alpha) #<- added alpha here\n",
    "\n",
    "    log_Pr_word_1_spam_1 = np.log(Pr_word_1_spam_1)\n",
    "    log_Pr_word_1_spam_0 = np.log(Pr_word_1_spam_0)\n",
    "\n",
    "    log_Pr_word_1_spam_1 = log_Pr_word_1_spam_1.reshape(-1, 1)\n",
    "    log_Pr_word_1_spam_0 = log_Pr_word_1_spam_0.reshape(-1, 1)\n",
    "\n",
    "    likelihood_pr_spam_given_word_1 = Xv @ log_Pr_word_1_spam_1 + log_pr_spam_1\n",
    "    likelihood_pr_spam_given_word_0 = Xv @ log_Pr_word_1_spam_0 + log_pr_spam_0\n",
    "    return [likelihood_pr_spam_given_word_1, likelihood_pr_spam_given_word_0]\n",
    "\n",
    "def predict_NB_with_smoothing(likelihood_pr_spam_given_word_1, likelihood_pr_spam_given_word_0):\n",
    "    predictions = np.where(likelihood_pr_spam_given_word_1 > likelihood_pr_spam_given_word_0, True, False)\n",
    "    return predictions"
   ]
  },
  {
   "cell_type": "markdown",
   "id": "0c37ac67-fc08-4397-99dd-c635b4117707",
   "metadata": {},
   "source": [
    "#### 3."
   ]
  },
  {
   "cell_type": "code",
   "execution_count": 181,
   "id": "989f9a1b-6011-4f08-824e-f1cee27ee98e",
   "metadata": {},
   "outputs": [
    {
     "name": "stdout",
     "output_type": "stream",
     "text": [
      "Alpha: 1e-08, Accuracy: 0.9792746113989638\n",
      "Alpha: 1e-07, Accuracy: 0.9861830742659758\n",
      "Alpha: 1e-06, Accuracy: 0.9896373056994818\n",
      "Alpha: 1e-05, Accuracy: 0.9913644214162349\n",
      "Alpha: 0.0001, Accuracy: 0.9948186528497409\n",
      "Alpha: 0.001, Accuracy: 0.9965457685664939\n",
      "Alpha: 0.01, Accuracy: 0.998272884283247\n",
      "Alpha: 0.1, Accuracy: 0.9948186528497409\n",
      "Alpha: 1, Accuracy: 0.9153713298791019\n"
     ]
    }
   ],
   "source": [
    "alpha_values = [10**i for i in range(-8, 1)]\n",
    "accuracy_with_smoothing = []\n",
    "\n",
    "for alpha in alpha_values:\n",
    "    likelihoods = fit_NB_with_smoothing(Xt, yt, Xv, yv, alpha)\n",
    "    predictions = predict_NB_with_smoothing(likelihoods[0], likelihoods[1])\n",
    "    accuracy = accuracy_score(yv, predictions)\n",
    "    accuracy_with_smoothing.append(accuracy)\n",
    "    print(f'Alpha: {alpha}, Accuracy: {accuracy}')"
   ]
  },
  {
   "cell_type": "markdown",
   "id": "945d4cc5-a65d-494e-8510-416d11c2cbfa",
   "metadata": {},
   "source": [
    "#### 4."
   ]
  },
  {
   "cell_type": "code",
   "execution_count": 182,
   "id": "00ff8445-91bf-4aed-b464-f45eb8ee760b",
   "metadata": {},
   "outputs": [
    {
     "name": "stdout",
     "output_type": "stream",
     "text": [
      "the best alpha value is 0.01\n"
     ]
    }
   ],
   "source": [
    "best_alpha = alpha_values[np.argmax(accuracy_with_smoothing)]\n",
    "print(f\"the best alpha value is {best_alpha}\")"
   ]
  },
  {
   "cell_type": "code",
   "execution_count": 183,
   "id": "ed1f8fd7-f40a-4c35-b09a-f53e9c4a7bda",
   "metadata": {},
   "outputs": [
    {
     "data": {
      "image/png": "[encoded data removed]",
      "text/plain": [
       "<Figure size 1000x600 with 1 Axes>"
      ]
     },
     "metadata": {},
     "output_type": "display_data"
    }
   ],
   "source": [
    "plt.figure(figsize=(10, 6))\n",
    "plt.plot(alpha_values, accuracy_with_smoothing, marker='o')\n",
    "plt.xscale('log')\n",
    "plt.xlabel('Alpha')\n",
    "plt.ylabel('Accuracy')\n",
    "plt.title('Accuracy vs. Alpha')\n",
    "plt.show()"
   ]
  },
  {
   "cell_type": "markdown",
   "id": "6d22f1d5-a3e4-4dd6-a546-9259ea124ad2",
   "metadata": {},
   "source": [
    "## 3\n",
    "### 1."
   ]
  },
  {
   "cell_type": "markdown",
   "id": "c114309e-77f5-4633-813a-96ced565b5fa",
   "metadata": {},
   "source": [
    "The actual values are the number for the manual review, which is 437 cases of Firearm related cases and 4953 cases of non-firearm related cases.\n",
    "\n",
    "The predicted values are the number under the criminal code, which is 77 cases of Firearm-related cases and 5313 cases of non-firearm related cases."
   ]
  },
  {
   "cell_type": "markdown",
   "id": "2858a9f9-1326-42ec-bede-b2f65d0689e1",
   "metadata": {},
   "source": [
    "### 2.\n",
    "\n",
    "The actual values (manual reviews) are in rows."
   ]
  },
  {
   "cell_type": "markdown",
   "id": "9cf6467f-0ded-40a0-a8d1-4cba1a6a0f53",
   "metadata": {},
   "source": [
    "### 3.\n",
    "The CM has positive value first. The positive values is cases that are firearm related."
   ]
  },
  {
   "cell_type": "markdown",
   "id": "efb3f0fb-3429-4b7b-82d4-5d80ce0867b9",
   "metadata": {},
   "source": [
    "### 4.\n",
    "There are 0 false positive cases and 360 false negative cases."
   ]
  },
  {
   "cell_type": "markdown",
   "id": "96b6fd3d-8b17-48ff-bc16-8b1d4f1161aa",
   "metadata": {},
   "source": [
    "### 5."
   ]
  },
  {
   "cell_type": "code",
   "execution_count": 184,
   "id": "481fb027-236a-4f15-877f-db6e6e785119",
   "metadata": {},
   "outputs": [
    {
     "name": "stdout",
     "output_type": "stream",
     "text": [
      "[4953, 0]\n",
      "[360, 77]\n"
     ]
    }
   ],
   "source": [
    "TP = 77  # True Positives\n",
    "TN = 4953  # True Negatives\n",
    "FN = 360  # False Negatives\n",
    "FP = 0  # False Positives \n",
    "\n",
    "cm_rearranged = [[TN, FP], [FN, TP]]\n",
    "print(cm_rearranged[0])\n",
    "print(cm_rearranged[1])"
   ]
  },
  {
   "cell_type": "markdown",
   "id": "20becfe7-7377-4a6a-ac07-b71944fdc5ea",
   "metadata": {},
   "source": [
    "#### 6.\n",
    "NPV stands negative predictive value. It has a value of 93.2% means that when the criminal codes predict a case as not firearm-related, there's a 93.2% chance that this prediction is correct.\n",
    "\n",
    "Se means sensitivity. It has a value of 17.6% means that of all actual firearm-related cases, the criminal codes correctly identified 17.6% of them."
   ]
  },
  {
   "cell_type": "markdown",
   "id": "1e6fd8ee-723f-4d30-b7e0-f331c1eadbe2",
   "metadata": {},
   "source": [
    "### 7."
   ]
  },
  {
   "cell_type": "code",
   "execution_count": 185,
   "id": "fad0f4d3-1740-4efa-a09b-be1f3b1e3767",
   "metadata": {},
   "outputs": [
    {
     "name": "stdout",
     "output_type": "stream",
     "text": [
      "the precision is 1.0, the recall is 0.17620137299771166, the f_score is 0.29961089494163423\n"
     ]
    }
   ],
   "source": [
    "precision = TP / (TP + FP)\n",
    "recall = TP / (TP + FN)  \n",
    "f_score = 2 * (precision * recall) / (precision + recall)\n",
    "print(f\"the precision is {precision}, the recall is {recall}, the f_score is {f_score}\")"
   ]
  },
  {
   "cell_type": "markdown",
   "id": "20cee4fc-ebf7-41b8-8d57-a69ecc796faa",
   "metadata": {},
   "source": [
    "The github link for this project is https://github.com/Antzed/INFO-371-PS5-Naive-Bayes-spam-filter-"
   ]
  },
  {
   "cell_type": "markdown",
   "id": "a022b8e3-636f-4d11-8f0e-c7c1c0494c63",
   "metadata": {},
   "source": [
    "We spend approximatly 20 hours on this assignment"
   ]
  }
 ],
 "metadata": {
  "kernelspec": {
   "display_name": "Python 3 (ipykernel)",
   "language": "python",
   "name": "python3"
  },
  "language_info": {
   "codemirror_mode": {
    "name": "ipython",
    "version": 3
   },
   "file_extension": ".py",
   "mimetype": "text/x-python",
   "name": "python",
   "nbconvert_exporter": "python",
   "pygments_lexer": "ipython3",
   "version": "3.10.13"
  }
 },
 "nbformat": 4,
 "nbformat_minor": 5
}
