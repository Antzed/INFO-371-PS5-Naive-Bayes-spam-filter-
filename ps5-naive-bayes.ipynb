{
 "cells": [
  {
   "cell_type": "markdown",
   "id": "9572fab7-d95b-42bc-a8b2-7936640f308b",
   "metadata": {},
   "source": [
    "# PS5 Naive Bayes spam filter"
   ]
  },
  {
   "cell_type": "code",
   "execution_count": 2,
   "id": "a29b15ec-13c3-40b1-a502-3c9dd2d9f4e2",
   "metadata": {},
   "outputs": [],
   "source": [
    "import pandas as pd\n",
    "import numpy as np\n",
    "import matplotlib.pyplot as plt"
   ]
  },
  {
   "cell_type": "markdown",
   "id": "db882af0-2406-4283-a480-e17c77362e90",
   "metadata": {},
   "source": [
    "## 1.\n",
    "### 1.1"
   ]
  },
  {
   "cell_type": "code",
   "execution_count": 15,
   "id": "58cb16a1-2cf5-429e-a2d4-1404da065555",
   "metadata": {},
   "outputs": [],
   "source": [
    "spam = pd.read_csv(\"./data/lingspam-emails.csv.bz2\",\n",
    "                 \tsep = \"\\t\")"
   ]
  },
  {
   "cell_type": "code",
   "execution_count": 27,
   "id": "aec90189-d080-4140-a6cf-340434aaa693",
   "metadata": {},
   "outputs": [
    {
     "name": "stdout",
     "output_type": "stream",
     "text": [
      "non spam messages:\n",
      "Subject: re : 2 . 882 s - > np np  > date : sun , 15 dec 91 02 : 25 :\n",
      "02 est > from : michael < mmorse @ vm1 . yorku . ca > > subject : re :\n",
      "2 . 864 queries > > wlodek zadrozny asks if there is \" anything\n",
      "interesting \" to be said > about the construction \" s > np np \" . . .\n",
      "second , > and very much related : might we consider the construction\n",
      "to be a form > of what has been discussed on this list of late as\n",
      "reduplication ? the > logical sense of \" john mcnamara the name \" is\n",
      "tautologous and thus , at > that level , indistinguishable from \" well\n",
      ", well now , what have we here ? \" . to say that ' john mcnamara the\n",
      "name ' is tautologous is to give support to those who say that a\n",
      "logic-based semantics is irrelevant to natural language . in what\n",
      "sense is it tautologous ? it supplies the value of an attribute\n",
      "followed by the attribute of which it is the value . if in fact the\n",
      "value of the name-attribute for the relevant entity were ' chaim\n",
      "shmendrik ' , ' john mcnamara the name ' would be false . no tautology\n",
      ", this . ( and no reduplication , either . ) \n",
      "\n",
      "Subject: s - > np + np  the discussion of s - > np + np reminds me\n",
      "that some years ago i read , in a source now forgotten , a critique of\n",
      "some newsmagazines ' unique tendencies in writing style , most of\n",
      "which the writer found overly \" cute \" . one item was tersely put down\n",
      "as follows : \" time 's favorite : the colon . \" - - - - - - - - - - -\n",
      "- - - - - - - - - - - - - - - - - - - - - - - - lee hartman ga5123 @\n",
      "siucvmb . bitnet department of foreign languages southern illinois\n",
      "university carbondale , il 62901 u . s . a . \n",
      "\n",
      "Subject: 2 . 882 s - > np np  . . . for me it 's much more restrictive\n",
      "than s - > np np . it 's \" no \" np pro quite an over-restriction ,\n",
      "that . \n",
      "\n",
      "spam messages:\n",
      "Subject: great part-time or summer job !  * * * * * * * * * * * * * *\n",
      "* we have display boxes with credit applications that we need to place\n",
      "in the small owner-operated stores in your area . here is what you do\n",
      ": 1 . introduce yourself to the store owner or manager . 2 . use our\n",
      "90 % effective script which tells them how this little display box\n",
      "will save their customers hundreds of dollars , be a drawing card for\n",
      "their business , and make them from $ 5 . 00 to $ 15 . 00 or more for\n",
      "every app sent in . 3 . find a good spot on the counter , place the\n",
      "box there , and say that nothing more need be done , all you need is\n",
      "his name and address so the company can send him the commission checks\n",
      ". your compensaation will be $ 10 for every box you place . by\n",
      "becoming a representative you could also earn a commission of $ 10 for\n",
      "each application that came from that store . that is of course a much\n",
      "more profitable plan , as it will pay you for months or years for a\n",
      "very small effort . call 1-888 - 703-5390 code 3 24 hours to receive\n",
      "the details ! ! * * * * * * * * * * * * * * * * * * * * * * * * * * *\n",
      "* * * * * * * * * * * * * * * * * * * * * * * * * * * * * * * * * * *\n",
      "* * * * * * * * * * * * * * * * * * * * * * * * * * * * * * * * * * *\n",
      "* * * * * * * * * * * * * * * * * * * * * * * * * * * * * * * * * * *\n",
      "* * * * * * * * * * * * * * * * * * * * * * * * * * * * * * * * * * *\n",
      "* * * * * * * * * * * * * * * * to be removed from our mailing list ,\n",
      "type : b2998 @ hotmail . com in the ( to : ) area and ( remove ) in\n",
      "the subject area of a new e - mail and send . * * * * * * * * * * * *\n",
      "* * * * * * * * * * * * * * * * * * * * * * * * * * * * * * * * * * *\n",
      "* * * * * * * * * * * * * * * * * * * * * * * * * * * * * * * * * * *\n",
      "* * * * * * * * * * * * * * * * * * * * * * * * * * * * * * * * * * *\n",
      "* * * * * * * * * * * * * * * \n",
      "\n",
      "Subject: auto insurance rates too high ?  dear nlpeople , i ' m sure\n",
      "you ' ll agree auto insurance costs too much . even with a good\n",
      "driving record , \" routine \" rate increases can drive your costs\n",
      "through the roof . i have discovered a way many people can sign up\n",
      "with an excellent company that gives amazingly low rates . they are\n",
      "about half of most of the rates i ' ve found shopping around for\n",
      "insurance in southern california . most people either qualify or have\n",
      "a friend who qualifies who would love to know about it . if you do n't\n",
      "qualify , i have another company that operates in several western\n",
      "states that is cheaper than many companies who claim they have \" the\n",
      "lowest rates available . \" just send $ 2 cash to : pva 1257 n kenmore\n",
      "ave # 2 los angeles , ca 90029 fold it in a piece of paper with your e\n",
      "- mail address and i will rush the information to you right away . if\n",
      "you prefer a hardcopy printout , enclose a self-addressed , stamped\n",
      "envelope . p . s . as a bonus i include two mechanic 's tips that save\n",
      "lots of time on a certain common repair job , and give you a quick and\n",
      "easy way to check the general condition of an engine . i have n't\n",
      "found these in any repair manuals or books before . these are great\n",
      "for home mechanics ! \n",
      "\n",
      "Subject: do want the best and economical hunting vacation of your life\n",
      "?  if you want the best hunting and camping vacation of your life ,\n",
      "come to felton 's hunting camp in wild and wonderful west virginia . $\n",
      "50 . 00 per day pays for your room and three home cooked meals (\n",
      "packed lunch if you want to stay out in the woods at noon ) with cozy\n",
      "accomodations . reserve your space now . following seasons are now\n",
      "being booked for 1998 : buck season - nov . 23 - dec . 5 doe season -\n",
      "to be announced ( please call ) muzzel loader ( deer ) - dec . 14 -\n",
      "dec . 19 archery ( deer ) - oct . 17 - dec . 31 turkey sesson - oct .\n",
      "24 - nov . 14 e - mail us at 110734 . 2622 @ compuserve . com \n",
      "\n"
     ]
    }
   ],
   "source": [
    "from textwrap import wrap\n",
    "is_spam = spam[spam['spam'] == True]\n",
    "not_spam = spam[spam['spam'] == False]\n",
    "spam_messages = is_spam[['message']].values\n",
    "not_spam_messages = not_spam[['message']].values\n",
    "\n",
    "print(\"non spam messages:\")\n",
    "for i, message in enumerate(not_spam_messages):\n",
    "    if i >= 3: \n",
    "        break\n",
    "    message_text = str(message[0])\n",
    "    print(\"\\n\".join(wrap(message_text)), \"\\n\")\n",
    "\n",
    "print(\"spam messages:\")\n",
    "for i, message in enumerate(spam_messages):\n",
    "    if i >= 3: \n",
    "        break\n",
    "    message_text = str(message[0])\n",
    "    print(\"\\n\".join(wrap(message_text)), \"\\n\")"
   ]
  },
  {
   "cell_type": "markdown",
   "id": "a4e793f8-9a9f-4364-b202-56687c0af7c4",
   "metadata": {},
   "source": [
    "### 1.2"
   ]
  },
  {
   "cell_type": "markdown",
   "id": "7639662e-1c9d-4246-a14b-100174ee1a13",
   "metadata": {},
   "source": [
    "#### 1."
   ]
  },
  {
   "cell_type": "code",
   "execution_count": 34,
   "id": "23aaf6d0-ef4e-4163-9e27-e63d32c48cf5",
   "metadata": {},
   "outputs": [
    {
     "name": "stdout",
     "output_type": "stream",
     "text": [
      "Probability                    Variable Name                 \n",
      "------------------------------------------------------------\n",
      "Pr(S = 1)                      pr_spam_1                     \n",
      "Pr(S = 0)                      pr_spam_0                     \n",
      "Pr(w = 1)                      pr_word_1                     \n",
      "Pr(w = 0)                      pr_word_0                     \n",
      "Pr(w = 1|S = 1)                pr_word_1_given_spam          \n",
      "Pr(w = 0|S = 1)                pr_word_0_given_spam          \n",
      "Pr(w = 1|S = 0)                pr_word_1_given_non_spam      \n",
      "Pr(w = 0|S = 0)                pr_word_0_given_non_spam      \n"
     ]
    }
   ],
   "source": [
    "variable_naming_schemes = [\n",
    "    (\"Pr(S = 1)\", \"pr_spam_1\"),\n",
    "    (\"Pr(S = 0)\", \"pr_spam_0\"),\n",
    "    (\"Pr(w = 1)\", \"pr_word_1\"),\n",
    "    (\"Pr(w = 0)\", \"pr_word_0\"),\n",
    "    (\"Pr(w = 1|S = 1)\", \"pr_word_1_given_spam\"),\n",
    "    (\"Pr(w = 0|S = 1)\", \"pr_word_0_given_spam\"),\n",
    "    (\"Pr(w = 1|S = 0)\", \"pr_word_1_given_non_spam\"),\n",
    "    (\"Pr(w = 0|S = 0)\", \"pr_word_0_given_non_spam\"),\n",
    "]\n",
    "\n",
    "print(f\"{'Probability':<30} {'Variable Name':<30}\")\n",
    "print(\"-\" * 60)\n",
    "\n",
    "for prob, var_name in variable_naming_schemes:\n",
    "    print(f\"{prob:<30} {var_name:<30}\")"
   ]
  },
  {
   "cell_type": "markdown",
   "id": "5d89a191-1931-4fd2-a753-611e1e84c6fe",
   "metadata": {},
   "source": [
    "#### 2."
   ]
  },
  {
   "cell_type": "code",
   "execution_count": 37,
   "id": "14ee3422-ba77-40ad-a514-b997acaa514e",
   "metadata": {},
   "outputs": [
    {
     "data": {
      "text/plain": [
       "0       False\n",
       "1       False\n",
       "2       False\n",
       "3       False\n",
       "4       False\n",
       "        ...  \n",
       "2888     True\n",
       "2889     True\n",
       "2890     True\n",
       "2891     True\n",
       "2892     True\n",
       "Name: spam, Length: 2893, dtype: bool"
      ]
     },
     "execution_count": 37,
     "metadata": {},
     "output_type": "execute_result"
    }
   ],
   "source": [
    "y = spam['spam']\n",
    "y"
   ]
  },
  {
   "cell_type": "code",
   "execution_count": 52,
   "id": "483489fd-159f-4e85-8e42-8b86403ceb65",
   "metadata": {},
   "outputs": [
    {
     "name": "stdout",
     "output_type": "stream",
     "text": [
      "The majority class is: not-spam\n"
     ]
    }
   ],
   "source": [
    "def find_majority_class_bool(vector):\n",
    "    return sum(vector) > len(vector) / 2\n",
    "majority_class = find_majority_class_bool(y)\n",
    "majority_class_text = \"not-spam\" if majority_class is False else \"spam\"\n",
    "print(f\"The majority class is: {majority_class_text}\")"
   ]
  },
  {
   "cell_type": "code",
   "execution_count": 53,
   "id": "0518349f-3fc3-44c4-9b94-65ed837fd2c5",
   "metadata": {},
   "outputs": [
    {
     "name": "stdout",
     "output_type": "stream",
     "text": [
      "Confusion Matrix:\n",
      " [[2412    0]\n",
      " [ 481    0]]\n",
      "Accuracy of the naive estimator: 83.37%\n"
     ]
    }
   ],
   "source": [
    "from sklearn.metrics import confusion_matrix, accuracy_score\n",
    "\n",
    "predictions = np.full_like(y, fill_value=majority_class)\n",
    "conf_matrix = confusion_matrix(y, predictions)\n",
    "\n",
    "accuracy_naive = (conf_matrix[0][0] + conf_matrix[1][1] )/ sum(map(sum, conf_matrix))\n",
    "\n",
    "print(\"Confusion Matrix:\\n\", conf_matrix)\n",
    "print(f\"Accuracy of the naive estimator: {accuracy_naive * 100:.2f}%\")"
   ]
  },
  {
   "cell_type": "markdown",
   "id": "7b18840e-dbe6-43ea-8474-7812d90223e0",
   "metadata": {},
   "source": [
    "#### 3."
   ]
  },
  {
   "cell_type": "code",
   "execution_count": 85,
   "id": "53864abb-295e-4c80-982f-7ebb5c194c47",
   "metadata": {},
   "outputs": [
    {
     "data": {
      "text/plain": [
       "0       False\n",
       "1       False\n",
       "2       False\n",
       "3       False\n",
       "4       False\n",
       "        ...  \n",
       "2888    False\n",
       "2889     True\n",
       "2890    False\n",
       "2891     True\n",
       "2892     True\n",
       "Name: message, Length: 2893, dtype: bool"
      ]
     },
     "execution_count": 85,
     "metadata": {},
     "output_type": "execute_result"
    }
   ],
   "source": [
    "x = spam.message.str.lower().str.contains(\"million\")\n",
    "x"
   ]
  },
  {
   "cell_type": "markdown",
   "id": "d6c1a4cf-43cd-4ac4-a298-af6170ba7eaf",
   "metadata": {},
   "source": [
    "#### 4."
   ]
  },
  {
   "cell_type": "code",
   "execution_count": 32,
   "id": "02b761fa-4712-4f00-9a69-9b109379bc17",
   "metadata": {},
   "outputs": [
    {
     "name": "stdout",
     "output_type": "stream",
     "text": [
      "Prior: probabilty of spam: 16.63%, probability of non-spam: 83.37%\n"
     ]
    }
   ],
   "source": [
    "pr_spam_1 = (spam['spam'] == True).mean()\n",
    "pr_spam_0 = (spam['spam'] == False).mean()\n",
    "print(f\"Prior: probability of spam: {pr_spam_1*100:.2f}%, probability of non-spam: {pr_spam_0*100:.2f}%\")"
   ]
  },
  {
   "cell_type": "markdown",
   "id": "faac35b6-057b-4e2f-bd95-c9343b6b8843",
   "metadata": {},
   "source": [
    "### 1.3\n",
    "#### 1."
   ]
  },
  {
   "cell_type": "code",
   "execution_count": 61,
   "id": "78b31f0c-546f-4971-95f9-2cf8c5d7bae1",
   "metadata": {},
   "outputs": [
    {
     "name": "stdout",
     "output_type": "stream",
     "text": [
      "Normalizer: probability of detecting target word: 4.84% , probability of not detecting target word: 95.16%\n"
     ]
    }
   ],
   "source": [
    "pr_word_1 = x.mean()\n",
    "pr_word_0 = 1 - pr_word_1\n",
    "print(f\"Normalizer: probability of detecting target word: {pr_word_1*100:.2f}% , probability of not detecting target word: {pr_word_0*100:.2f}%\")"
   ]
  },
  {
   "cell_type": "markdown",
   "id": "28c6b4e0-f398-48a5-8565-8f617307816d",
   "metadata": {},
   "source": [
    "#### 2."
   ]
  },
  {
   "cell_type": "code",
   "execution_count": 62,
   "id": "d1e396a8-d1e2-462d-93ef-ea48276b7a58",
   "metadata": {},
   "outputs": [
    {
     "data": {
      "text/html": [
       "<div>\n",
       "<style scoped>\n",
       "    .dataframe tbody tr th:only-of-type {\n",
       "        vertical-align: middle;\n",
       "    }\n",
       "\n",
       "    .dataframe tbody tr th {\n",
       "        vertical-align: top;\n",
       "    }\n",
       "\n",
       "    .dataframe thead th {\n",
       "        text-align: right;\n",
       "    }\n",
       "</style>\n",
       "<table border=\"1\" class=\"dataframe\">\n",
       "  <thead>\n",
       "    <tr style=\"text-align: right;\">\n",
       "      <th></th>\n",
       "      <th>spam</th>\n",
       "      <th>files</th>\n",
       "      <th>message</th>\n",
       "      <th>contains_word_million</th>\n",
       "    </tr>\n",
       "  </thead>\n",
       "  <tbody>\n",
       "    <tr>\n",
       "      <th>0</th>\n",
       "      <td>False</td>\n",
       "      <td>3-1msg1.txt</td>\n",
       "      <td>Subject: re : 2 . 882 s - &gt; np np  &gt; date : su...</td>\n",
       "      <td>False</td>\n",
       "    </tr>\n",
       "    <tr>\n",
       "      <th>1</th>\n",
       "      <td>False</td>\n",
       "      <td>3-1msg2.txt</td>\n",
       "      <td>Subject: s - &gt; np + np  the discussion of s - ...</td>\n",
       "      <td>False</td>\n",
       "    </tr>\n",
       "    <tr>\n",
       "      <th>2</th>\n",
       "      <td>False</td>\n",
       "      <td>3-1msg3.txt</td>\n",
       "      <td>Subject: 2 . 882 s - &gt; np np  . . . for me it ...</td>\n",
       "      <td>False</td>\n",
       "    </tr>\n",
       "  </tbody>\n",
       "</table>\n",
       "</div>"
      ],
      "text/plain": [
       "    spam        files                                            message  \\\n",
       "0  False  3-1msg1.txt  Subject: re : 2 . 882 s - > np np  > date : su...   \n",
       "1  False  3-1msg2.txt  Subject: s - > np + np  the discussion of s - ...   \n",
       "2  False  3-1msg3.txt  Subject: 2 . 882 s - > np np  . . . for me it ...   \n",
       "\n",
       "   contains_word_million  \n",
       "0                  False  \n",
       "1                  False  \n",
       "2                  False  "
      ]
     },
     "execution_count": 62,
     "metadata": {},
     "output_type": "execute_result"
    }
   ],
   "source": [
    "spam_with_x = spam.assign(contains_word_million = x)\n",
    "spam_with_x.head(3)"
   ]
  },
  {
   "cell_type": "code",
   "execution_count": 70,
   "id": "87172372-fcf7-4656-a478-6dcaa883b33b",
   "metadata": {},
   "outputs": [
    {
     "name": "stdout",
     "output_type": "stream",
     "text": [
      "Pr(w = 1|S = 1): 24.12% , Pr(w = 0|S = 1): 75.88%\n",
      "Pr(w = 1|S = 0): 1.00% , Pr(w = 0|S = 0): 99.00%\n"
     ]
    }
   ],
   "source": [
    "pr_word_1_given_spam = spam_with_x[spam_with_x['spam'] == True]['contains_word_million'].mean()\n",
    "pr_word_0_given_spam =  1 - pr_word_1_given_spam\n",
    "pr_word_1_given_non_spam = spam_with_x[spam_with_x['spam'] == False]['contains_word_million'].mean()\n",
    "pr_word_0_given_non_spam = 1 - pr_word_1_given_non_spam\n",
    "print(f\"Pr(w = 1|S = 1): {pr_word_1_given_spam*100:.2f}% , Pr(w = 0|S = 1): {pr_word_0_given_spam*100:.2f}%\")\n",
    "print(f\"Pr(w = 1|S = 0): {pr_word_1_given_non_spam*100:.2f}% , Pr(w = 0|S = 0): {pr_word_0_given_non_spam*100:.2f}%\")"
   ]
  },
  {
   "cell_type": "markdown",
   "id": "ce29f2e3-c389-462a-8818-f26832a29137",
   "metadata": {},
   "source": [
    "#### 3."
   ]
  },
  {
   "cell_type": "code",
   "execution_count": 68,
   "id": "dff07ec5-ad9e-4402-97d9-be1d49e47918",
   "metadata": {},
   "outputs": [
    {
     "name": "stdout",
     "output_type": "stream",
     "text": [
      " Pr(S = 1|w = 1): 82.86% , Pr(S = 1|w = 0): 13.26%\n"
     ]
    }
   ],
   "source": [
    "pr_spam_given_word_1 = pr_word_1_given_spam  * pr_spam_1 / pr_word_1\n",
    "pr_spam_given_word_0 = pr_word_0_given_spam  * pr_spam_1 / pr_word_0\n",
    "print(f\" Pr(S = 1|w = 1): {pr_spam_given_word_1*100:.2f}% , Pr(S = 1|w = 0): {pr_spam_given_word_0*100:.2f}%\")"
   ]
  },
  {
   "cell_type": "code",
   "execution_count": 72,
   "id": "7ab757ab-97d8-48da-9dae-d922a55fa857",
   "metadata": {},
   "outputs": [
    {
     "name": "stdout",
     "output_type": "stream",
     "text": [
      " Pr(S = 0|w = 1): 17.14% , Pr(S = 0|w = 0): 86.74%\n"
     ]
    }
   ],
   "source": [
    "pr_non_spam_given_word_1 = pr_word_1_given_non_spam  * pr_spam_0 / pr_word_1\n",
    "pr_non_spam_given_word_0 = pr_word_0_given_non_spam  * pr_spam_0 / pr_word_0\n",
    "print(f\" Pr(S = 0|w = 1): {pr_non_spam_given_word_1*100:.2f}% , Pr(S = 0|w = 0): {pr_non_spam_given_word_0*100:.2f}%\")"
   ]
  },
  {
   "cell_type": "markdown",
   "id": "ceeb9b27-0d17-4ad9-a772-78af06af2a16",
   "metadata": {},
   "source": [
    "#### 4."
   ]
  },
  {
   "cell_type": "code",
   "execution_count": 78,
   "id": "3f440314-ac6d-48ac-9ae6-341e6d731dcb",
   "metadata": {},
   "outputs": [
    {
     "name": "stdout",
     "output_type": "stream",
     "text": [
      "Pr(S = 1|w = 1) + Pr(S = 0|w = 1) = 1.00\n",
      "Pr(S = 1|w = 0) + Pr(S = 0|w = 0) = 1.00\n"
     ]
    }
   ],
   "source": [
    "print(f\"Pr(S = 1|w = 1) + Pr(S = 0|w = 1) = {pr_spam_given_word_1 + pr_non_spam_given_word_1:.2f}\")\n",
    "print(f\"Pr(S = 1|w = 0) + Pr(S = 0|w = 0) = {pr_spam_given_word_0 + pr_non_spam_given_word_0:.2f}\")"
   ]
  },
  {
   "cell_type": "markdown",
   "id": "a98e7592-30c4-4571-9d9c-196886e1bfb4",
   "metadata": {},
   "source": [
    "Pr(S = 1|w = 1), Pr(S = 0|w = 1) adds up to 1 becuase they contains the same base assumption, which is \"target word is found inside the message\". So they would be in the same space in the venn diagram  So in this case what ever is \"not\" Pr(S = 1|w = 1) is Pr(S = 0|w = 1)."
   ]
  },
  {
   "cell_type": "markdown",
   "id": "150c0fd0-e81d-49a3-8772-f071d2a60fa7",
   "metadata": {},
   "source": [
    "### 1.4\n",
    "#### 1"
   ]
  },
  {
   "cell_type": "code",
   "execution_count": 88,
   "id": "54d078cc-194a-49f4-b29e-e13d54b00668",
   "metadata": {},
   "outputs": [
    {
     "data": {
      "text/plain": [
       "0       False\n",
       "1       False\n",
       "2       False\n",
       "3       False\n",
       "4       False\n",
       "        ...  \n",
       "2888    False\n",
       "2889     True\n",
       "2890    False\n",
       "2891     True\n",
       "2892     True\n",
       "Length: 2893, dtype: bool"
      ]
     },
     "execution_count": 88,
     "metadata": {},
     "output_type": "execute_result"
    }
   ],
   "source": [
    "predictions = pd.Series(index=spam_with_x.index, dtype='bool')\n",
    "for index, row in spam_with_x.iterrows():\n",
    "    if row['contains_word_million'] == True:\n",
    "        predictions.at[index] = pr_spam_given_word_1 > 0.5\n",
    "    else:\n",
    "        predictions.at[index] = pr_spam_given_word_0 > 0.5\n",
    "predictions"
   ]
  },
  {
   "cell_type": "code",
   "execution_count": 92,
   "id": "2750d9eb-b0d0-4ccf-8879-6a7291f4a39f",
   "metadata": {},
   "outputs": [
    {
     "name": "stdout",
     "output_type": "stream",
     "text": [
      "Confusion Matrix:\n",
      " [[2388   24]\n",
      " [ 365  116]]\n",
      "Accuracy of the bayes theorem estimator: 86.55%\n",
      "Precision of the bayes theorem estimator: 0.83\n",
      "Recall of the bayes theorem estimator: 0.24\n"
     ]
    }
   ],
   "source": [
    "conf_matrix = confusion_matrix(y, predictions)\n",
    "\n",
    "TP = conf_matrix[1][1]\n",
    "TN = conf_matrix[0][0]\n",
    "FP = conf_matrix[0][1]\n",
    "FN = conf_matrix[1][0]\n",
    "\n",
    "accuracy_bays_theorem = (TN + TP )/ sum(map(sum, conf_matrix))\n",
    "precision_bays_theorem = TP / (TP + FP)\n",
    "recall_bays_theorem = TP / (TP + FN)\n",
    "\n",
    "print(\"Confusion Matrix:\\n\", conf_matrix)\n",
    "print(f\"Accuracy of the bayes theorem estimator: {accuracy_bays_theorem * 100:.2f}%\")\n",
    "print(f\"Precision of the bayes theorem estimator: {precision_bays_theorem :.2f}\")\n",
    "print(f\"Recall of the bayes theorem estimator: {recall_bays_theorem:.2f}\")"
   ]
  },
  {
   "cell_type": "markdown",
   "id": "a8cf26d2-b57f-4d31-a831-ad6ea55d68c2",
   "metadata": {},
   "source": [
    "#### 3.\n",
    "In the steps outlined above, the calculation of Bayes' theorem probabilities and the setting of a 0.5 threshold constitute the model's training. This is because the definition of a trained model is something from which we can make predictions. Our prediction was derived from the probabilities and the comparison between the threshold and the binary choice of whether the word is found or not, as described in the mentioned steps."
   ]
  },
  {
   "cell_type": "code",
   "execution_count": null,
   "id": "881d036f-2010-4562-9852-e32e4dc64cc0",
   "metadata": {},
   "outputs": [],
   "source": []
  }
 ],
 "metadata": {
  "kernelspec": {
   "display_name": "Python 3 (ipykernel)",
   "language": "python",
   "name": "python3"
  },
  "language_info": {
   "codemirror_mode": {
    "name": "ipython",
    "version": 3
   },
   "file_extension": ".py",
   "mimetype": "text/x-python",
   "name": "python",
   "nbconvert_exporter": "python",
   "pygments_lexer": "ipython3",
   "version": "3.10.13"
  }
 },
 "nbformat": 4,
 "nbformat_minor": 5
}
